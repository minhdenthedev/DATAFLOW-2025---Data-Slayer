{
 "cells": [
  {
   "cell_type": "code",
   "execution_count": 2,
   "metadata": {},
   "outputs": [
    {
     "name": "stderr",
     "output_type": "stream",
     "text": [
      "25/02/20 15:20:26 WARN Utils: Your hostname, m1nhd3n resolves to a loopback address: 127.0.1.1; using 192.168.1.158 instead (on interface wlp0s20f3)\n",
      "25/02/20 15:20:26 WARN Utils: Set SPARK_LOCAL_IP if you need to bind to another address\n",
      "Setting default log level to \"WARN\".\n",
      "To adjust logging level use sc.setLogLevel(newLevel). For SparkR, use setLogLevel(newLevel).\n",
      "25/02/20 15:20:26 WARN NativeCodeLoader: Unable to load native-hadoop library for your platform... using builtin-java classes where applicable\n"
     ]
    },
    {
     "name": "stdout",
     "output_type": "stream",
     "text": [
      "root\n",
      " |-- ncodpers: integer (nullable = true)\n",
      " |-- month_idx: integer (nullable = true)\n",
      " |-- product_vec: vector (nullable = true)\n",
      " |-- feat_vec: vector (nullable = true)\n",
      "\n"
     ]
    }
   ],
   "source": [
    "from pyspark.sql import SparkSession, Window\n",
    "from pyspark.ml.feature import VectorAssembler, StringIndexer, OneHotEncoder\n",
    "from pyspark.ml import Pipeline\n",
    "from pyspark.sql.functions import col, log, row_number\n",
    "\n",
    "spark = SparkSession.builder \\\n",
    "    .config(\"spark.driver.memory\", \"4g\") \\\n",
    "    .config(\"spark.executor.memory\", \"8g\") \\\n",
    "    .config(\"spark.executor.cores\", \"4\") \\\n",
    "    .appName(\"Product Recommendation\") \\\n",
    "    .getOrCreate()\n",
    "\n",
    "df = spark.read.parquet(\"/home/m1nhd3n/Works/DataEngineer/product_recommendations/data/preprocess/transformed_data.parquet\")\n",
    "df.printSchema()"
   ]
  },
  {
   "cell_type": "code",
   "execution_count": 3,
   "metadata": {},
   "outputs": [],
   "source": [
    "from pyspark.sql import functions as F\n",
    "from pyspark.sql import Window\n",
    "\n",
    "windowSpec = Window.partitionBy(\"ncodpers\").orderBy(\"month_idx\")\n",
    "df = df.withColumn(\"prev_product_vec\", F.lag(\"product_vec\").over(windowSpec))"
   ]
  },
  {
   "cell_type": "code",
   "execution_count": 4,
   "metadata": {},
   "outputs": [],
   "source": [
    "from pyspark.ml.linalg import DenseVector, VectorUDT, Vectors\n",
    "from pyspark.sql.functions import col, udf\n",
    "import numpy as np\n",
    "\n",
    "\n",
    "@udf(returnType=VectorUDT())\n",
    "def subtract_vector_udf(vec1, vec2):\n",
    "    if vec2 is None:\n",
    "        return None\n",
    "    vec_diff = vec1.toArray() - vec2.toArray()\n",
    "    new_prod_vec = np.clip(vec_diff, 0, 1)\n",
    "    indices = np.nonzero(new_prod_vec)[0]\n",
    "    if len(indices) == 0:\n",
    "        return None\n",
    "    values = new_prod_vec[indices]\n",
    "\n",
    "    return Vectors.sparse(len(new_prod_vec), indices, values)\n",
    "\n",
    "df = df.withColumn(\"new_product_vec\", subtract_vector_udf(col(\"product_vec\"), col(\"prev_product_vec\")))"
   ]
  },
  {
   "cell_type": "code",
   "execution_count": 5,
   "metadata": {},
   "outputs": [],
   "source": [
    "df = df.withColumn(\"target_product_vec\", F.lag(\"new_product_vec\", -1).over(windowSpec))"
   ]
  },
  {
   "cell_type": "code",
   "execution_count": 6,
   "metadata": {},
   "outputs": [],
   "source": [
    "actual_buy_df = df.select(\"*\").where(df.target_product_vec.isNotNull())"
   ]
  },
  {
   "cell_type": "code",
   "execution_count": 7,
   "metadata": {},
   "outputs": [],
   "source": [
    "actual_buying_cust = actual_buy_df.select(\"ncodpers\").distinct()"
   ]
  },
  {
   "cell_type": "code",
   "execution_count": 8,
   "metadata": {},
   "outputs": [
    {
     "name": "stderr",
     "output_type": "stream",
     "text": [
      "                                                                                \r"
     ]
    }
   ],
   "source": [
    "ab_custs = actual_buying_cust.collect()"
   ]
  },
  {
   "cell_type": "code",
   "execution_count": 9,
   "metadata": {},
   "outputs": [
    {
     "data": {
      "text/plain": [
       "187219"
      ]
     },
     "execution_count": 9,
     "metadata": {},
     "output_type": "execute_result"
    }
   ],
   "source": [
    "cust_ids = [c.ncodpers for c in ab_custs]\n",
    "len(cust_ids)"
   ]
  },
  {
   "cell_type": "code",
   "execution_count": 10,
   "metadata": {},
   "outputs": [],
   "source": [
    "actual_buy_df = df.filter(df.ncodpers.isin(cust_ids))"
   ]
  },
  {
   "cell_type": "code",
   "execution_count": 11,
   "metadata": {},
   "outputs": [
    {
     "name": "stderr",
     "output_type": "stream",
     "text": [
      "25/02/20 15:23:40 WARN DAGScheduler: Broadcasting large task binary with size 2.7 MiB\n",
      "25/02/20 15:23:48 WARN DAGScheduler: Broadcasting large task binary with size 5.5 MiB\n",
      "25/02/20 15:24:24 WARN DAGScheduler: Broadcasting large task binary with size 5.5 MiB\n",
      "                                                                                \r"
     ]
    },
    {
     "name": "stdout",
     "output_type": "stream",
     "text": [
      "+--------+---------+--------------------+--------------------+--------------------+---------------+------------------+\n",
      "|ncodpers|month_idx|         product_vec|            feat_vec|    prev_product_vec|new_product_vec|target_product_vec|\n",
      "+--------+---------+--------------------+--------------------+--------------------+---------------+------------------+\n",
      "|   15923|        1|(24,[4,12,21,22,2...|(17,[4,5,10,12,14...|                NULL|           NULL|              NULL|\n",
      "|   15923|        2|(24,[4,12,21,22,2...|(17,[4,5,10,12,14...|(24,[4,12,21,22,2...|           NULL|              NULL|\n",
      "|   15923|        3|(24,[4,12,21,22,2...|(17,[4,5,10,12,14...|(24,[4,12,21,22,2...|           NULL|   (24,[18],[1.0])|\n",
      "|   15923|        4|(24,[4,12,18,21,2...|(17,[4,5,10,12,14...|(24,[4,12,21,22,2...|(24,[18],[1.0])|              NULL|\n",
      "|   15923|        5|(24,[4,12,18,21,2...|(17,[4,5,10,12,14...|(24,[4,12,18,21,2...|           NULL|              NULL|\n",
      "|   15923|        6|(24,[4,12,18,21,2...|(17,[4,5,10,12,14...|(24,[4,12,18,21,2...|           NULL|              NULL|\n",
      "|   15923|        7|(24,[4,12,18,21,2...|(17,[4,5,10,12,14...|(24,[4,12,18,21,2...|           NULL|              NULL|\n",
      "|   15923|        8|(24,[4,12,18,21,2...|(17,[4,5,10,12,14...|(24,[4,12,18,21,2...|           NULL|              NULL|\n",
      "|   15923|        9|(24,[4,12,21,22,2...|(17,[4,5,10,12,14...|(24,[4,12,18,21,2...|           NULL|   (24,[18],[1.0])|\n",
      "|   15923|       10|(24,[4,12,18,21,2...|(17,[4,5,10,12,14...|(24,[4,12,21,22,2...|(24,[18],[1.0])|   (24,[17],[1.0])|\n",
      "|   15923|       11|(24,[4,12,17,18,2...|(17,[4,5,10,12,14...|(24,[4,12,18,21,2...|(24,[17],[1.0])|              NULL|\n",
      "|   15923|       12|(24,[4,12,17,21,2...|(17,[4,5,10,12,14...|(24,[4,12,17,18,2...|           NULL|   (24,[18],[1.0])|\n",
      "|   15923|       13|(24,[4,12,17,18,2...|(17,[3,4,5,10,12,...|(24,[4,12,17,21,2...|(24,[18],[1.0])|              NULL|\n",
      "|   15923|       14|(24,[4,12,17,18,2...|(17,[3,4,5,10,12,...|(24,[4,12,17,18,2...|           NULL|              NULL|\n",
      "|   15923|       15|(24,[4,12,17,18,2...|(17,[3,4,5,10,12,...|(24,[4,12,17,18,2...|           NULL|              NULL|\n",
      "|   15923|       16|(24,[4,12,17,18,2...|(17,[3,4,5,10,12,...|(24,[4,12,17,18,2...|           NULL|              NULL|\n",
      "|   15923|       17|(24,[4,12,17,18,2...|(17,[3,4,5,10,12,...|(24,[4,12,17,18,2...|           NULL|              NULL|\n",
      "|   15957|        1|(24,[4,11,12,13,1...|(17,[3,4,5,10,12,...|                NULL|           NULL|              NULL|\n",
      "|   15957|        2|(24,[4,11,12,13,1...|(17,[3,4,5,10,12,...|(24,[4,11,12,13,1...|           NULL|              NULL|\n",
      "|   15957|        3|(24,[4,11,12,13,1...|(17,[3,4,5,10,12,...|(24,[4,11,12,13,1...|           NULL|              NULL|\n",
      "+--------+---------+--------------------+--------------------+--------------------+---------------+------------------+\n",
      "only showing top 20 rows\n",
      "\n"
     ]
    }
   ],
   "source": [
    "actual_buy_df.show()"
   ]
  },
  {
   "cell_type": "code",
   "execution_count": 13,
   "metadata": {},
   "outputs": [
    {
     "name": "stderr",
     "output_type": "stream",
     "text": [
      "25/02/20 15:25:28 WARN DAGScheduler: Broadcasting large task binary with size 2.7 MiB\n",
      "25/02/20 15:25:34 WARN DAGScheduler: Broadcasting large task binary with size 5.5 MiB\n",
      "25/02/20 15:26:11 WARN DAGScheduler: Broadcasting large task binary with size 5.7 MiB\n",
      "                                                                                \r"
     ]
    }
   ],
   "source": [
    "actual_buy_df.write.parquet(\"/home/m1nhd3n/Works/DataEngineer/product_recommendations/data/preprocess/created_target_col\")"
   ]
  }
 ],
 "metadata": {
  "kernelspec": {
   "display_name": ".venv",
   "language": "python",
   "name": "python3"
  },
  "language_info": {
   "codemirror_mode": {
    "name": "ipython",
    "version": 3
   },
   "file_extension": ".py",
   "mimetype": "text/x-python",
   "name": "python",
   "nbconvert_exporter": "python",
   "pygments_lexer": "ipython3",
   "version": "3.11.2"
  }
 },
 "nbformat": 4,
 "nbformat_minor": 2
}
