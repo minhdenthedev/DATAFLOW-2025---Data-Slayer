{
 "cells": [
  {
   "cell_type": "code",
   "execution_count": 1,
   "metadata": {},
   "outputs": [
    {
     "name": "stderr",
     "output_type": "stream",
     "text": [
      "25/02/18 14:19:39 WARN Utils: Your hostname, m1nhd3n resolves to a loopback address: 127.0.1.1; using 192.168.33.129 instead (on interface wlp0s20f3)\n",
      "25/02/18 14:19:39 WARN Utils: Set SPARK_LOCAL_IP if you need to bind to another address\n",
      "Setting default log level to \"WARN\".\n",
      "To adjust logging level use sc.setLogLevel(newLevel). For SparkR, use setLogLevel(newLevel).\n",
      "25/02/18 14:19:40 WARN NativeCodeLoader: Unable to load native-hadoop library for your platform... using builtin-java classes where applicable\n",
      "                                                                                \r"
     ]
    },
    {
     "name": "stdout",
     "output_type": "stream",
     "text": [
      "root\n",
      " |-- fecha_dato: date (nullable = true)\n",
      " |-- ncodpers: integer (nullable = true)\n",
      " |-- ind_empleado: string (nullable = true)\n",
      " |-- pais_residencia: string (nullable = true)\n",
      " |-- sexo: string (nullable = true)\n",
      " |-- age: integer (nullable = true)\n",
      " |-- ind_nuevo: integer (nullable = true)\n",
      " |-- antiguedad: integer (nullable = true)\n",
      " |-- indrel: integer (nullable = true)\n",
      " |-- indrel_1mes: integer (nullable = true)\n",
      " |-- tiprel_1mes: string (nullable = true)\n",
      " |-- indresi: integer (nullable = true)\n",
      " |-- indext: integer (nullable = true)\n",
      " |-- canal_entrada: string (nullable = true)\n",
      " |-- indfall: integer (nullable = true)\n",
      " |-- cod_prov: integer (nullable = true)\n",
      " |-- ind_actividad_cliente: integer (nullable = true)\n",
      " |-- renta: double (nullable = true)\n",
      " |-- segmento: string (nullable = true)\n",
      " |-- ind_ahor_fin_ult1: integer (nullable = true)\n",
      " |-- ind_aval_fin_ult1: integer (nullable = true)\n",
      " |-- ind_cco_fin_ult1: integer (nullable = true)\n",
      " |-- ind_cder_fin_ult1: integer (nullable = true)\n",
      " |-- ind_cno_fin_ult1: integer (nullable = true)\n",
      " |-- ind_ctju_fin_ult1: integer (nullable = true)\n",
      " |-- ind_ctma_fin_ult1: integer (nullable = true)\n",
      " |-- ind_ctop_fin_ult1: integer (nullable = true)\n",
      " |-- ind_ctpp_fin_ult1: integer (nullable = true)\n",
      " |-- ind_deco_fin_ult1: integer (nullable = true)\n",
      " |-- ind_deme_fin_ult1: integer (nullable = true)\n",
      " |-- ind_dela_fin_ult1: integer (nullable = true)\n",
      " |-- ind_ecue_fin_ult1: integer (nullable = true)\n",
      " |-- ind_fond_fin_ult1: integer (nullable = true)\n",
      " |-- ind_hip_fin_ult1: integer (nullable = true)\n",
      " |-- ind_plan_fin_ult1: integer (nullable = true)\n",
      " |-- ind_pres_fin_ult1: integer (nullable = true)\n",
      " |-- ind_reca_fin_ult1: integer (nullable = true)\n",
      " |-- ind_tjcr_fin_ult1: integer (nullable = true)\n",
      " |-- ind_valo_fin_ult1: integer (nullable = true)\n",
      " |-- ind_viv_fin_ult1: integer (nullable = true)\n",
      " |-- ind_nomina_ult1: integer (nullable = true)\n",
      " |-- ind_nom_pens_ult1: integer (nullable = true)\n",
      " |-- ind_recibo_ult1: integer (nullable = true)\n",
      "\n"
     ]
    },
    {
     "name": "stderr",
     "output_type": "stream",
     "text": [
      "                                                                                \r"
     ]
    },
    {
     "data": {
      "text/plain": [
       "13431393"
      ]
     },
     "execution_count": 1,
     "metadata": {},
     "output_type": "execute_result"
    }
   ],
   "source": [
    "from pyspark.sql import SparkSession\n",
    "\n",
    "spark = SparkSession.builder \\\n",
    "    .config(\"spark.driver.memory\", \"4g\") \\\n",
    "    .config(\"spark.executor.memory\", \"8g\") \\\n",
    "    .config(\"spark.executor.cores\", \"4\") \\\n",
    "    .appName(\"Product Recommendation\") \\\n",
    "    .getOrCreate()\n",
    "\n",
    "df = spark.read.csv(\"/home/m1nhd3n/Works/DataEngineer/product_recommendations/data/preprocess/preprocessed.csv\", header=True, inferSchema=True)\n",
    "df.printSchema()\n",
    "df.count()"
   ]
  },
  {
   "cell_type": "code",
   "execution_count": 2,
   "metadata": {},
   "outputs": [
    {
     "name": "stderr",
     "output_type": "stream",
     "text": [
      "25/02/18 00:27:57 WARN SparkStringUtils: Truncated the string representation of a plan since it was too large. This behavior can be adjusted by setting 'spark.sql.debug.maxToStringFields'.\n",
      "[Stage 5:====================================================>    (13 + 1) / 14]\r"
     ]
    },
    {
     "name": "stdout",
     "output_type": "stream",
     "text": [
      "+----------+--------+------------+---------------+----+---+---------+----------+------+-----------+-----------+-------+------+-------------+-------+--------+---------------------+-----+--------+-----------------+-----------------+----------------+-----------------+----------------+-----------------+-----------------+-----------------+-----------------+-----------------+-----------------+-----------------+-----------------+-----------------+----------------+-----------------+-----------------+-----------------+-----------------+-----------------+----------------+---------------+-----------------+---------------+\n",
      "|fecha_dato|ncodpers|ind_empleado|pais_residencia|sexo|age|ind_nuevo|antiguedad|indrel|indrel_1mes|tiprel_1mes|indresi|indext|canal_entrada|indfall|cod_prov|ind_actividad_cliente|renta|segmento|ind_ahor_fin_ult1|ind_aval_fin_ult1|ind_cco_fin_ult1|ind_cder_fin_ult1|ind_cno_fin_ult1|ind_ctju_fin_ult1|ind_ctma_fin_ult1|ind_ctop_fin_ult1|ind_ctpp_fin_ult1|ind_deco_fin_ult1|ind_deme_fin_ult1|ind_dela_fin_ult1|ind_ecue_fin_ult1|ind_fond_fin_ult1|ind_hip_fin_ult1|ind_plan_fin_ult1|ind_pres_fin_ult1|ind_reca_fin_ult1|ind_tjcr_fin_ult1|ind_valo_fin_ult1|ind_viv_fin_ult1|ind_nomina_ult1|ind_nom_pens_ult1|ind_recibo_ult1|\n",
      "+----------+--------+------------+---------------+----+---+---------+----------+------+-----------+-----------+-------+------+-------------+-------+--------+---------------------+-----+--------+-----------------+-----------------+----------------+-----------------+----------------+-----------------+-----------------+-----------------+-----------------+-----------------+-----------------+-----------------+-----------------+-----------------+----------------+-----------------+-----------------+-----------------+-----------------+-----------------+----------------+---------------+-----------------+---------------+\n",
      "|         0|       0|           0|              0|   0|  0|        0|         0|     0|          0|          0|      0|     0|            0|      0|       0|                    0|    0|       0|                0|                0|               0|                0|               0|                0|                0|                0|                0|                0|                0|                0|                0|                0|               0|                0|                0|                0|                0|                0|               0|              0|                0|              0|\n",
      "+----------+--------+------------+---------------+----+---+---------+----------+------+-----------+-----------+-------+------+-------------+-------+--------+---------------------+-----+--------+-----------------+-----------------+----------------+-----------------+----------------+-----------------+-----------------+-----------------+-----------------+-----------------+-----------------+-----------------+-----------------+-----------------+----------------+-----------------+-----------------+-----------------+-----------------+-----------------+----------------+---------------+-----------------+---------------+\n",
      "\n"
     ]
    },
    {
     "name": "stderr",
     "output_type": "stream",
     "text": [
      "                                                                                \r"
     ]
    }
   ],
   "source": [
    "from pyspark.sql.functions import col, sum\n",
    "\n",
    "df.select([sum(col(c).isNull().cast(\"int\")).alias(c) for c in df.columns]).show()"
   ]
  },
  {
   "cell_type": "code",
   "execution_count": 3,
   "metadata": {},
   "outputs": [
    {
     "name": "stdout",
     "output_type": "stream",
     "text": [
      "+----------+---------+------------+---------------+----+---+----------+---------+----------+------+-----------+-----------+-------+------+--------+-------------+-------+--------+---------------------+------------------+------------------+-----------------+-----------------+----------------+-----------------+----------------+-----------------+-----------------+-----------------+-----------------+-----------------+-----------------+-----------------+-----------------+-----------------+----------------+-----------------+-----------------+-----------------+-----------------+-----------------+----------------+---------------+-----------------+---------------+\n",
      "|fecha_dato| ncodpers|ind_empleado|pais_residencia|sexo|age|fecha_alta|ind_nuevo|antiguedad|indrel|indrel_1mes|tiprel_1mes|indresi|indext|conyuemp|canal_entrada|indfall|cod_prov|ind_actividad_cliente|             renta|          segmento|ind_ahor_fin_ult1|ind_aval_fin_ult1|ind_cco_fin_ult1|ind_cder_fin_ult1|ind_cno_fin_ult1|ind_ctju_fin_ult1|ind_ctma_fin_ult1|ind_ctop_fin_ult1|ind_ctpp_fin_ult1|ind_deco_fin_ult1|ind_deme_fin_ult1|ind_dela_fin_ult1|ind_ecue_fin_ult1|ind_fond_fin_ult1|ind_hip_fin_ult1|ind_plan_fin_ult1|ind_pres_fin_ult1|ind_reca_fin_ult1|ind_tjcr_fin_ult1|ind_valo_fin_ult1|ind_viv_fin_ult1|ind_nomina_ult1|ind_nom_pens_ult1|ind_recibo_ult1|\n",
      "+----------+---------+------------+---------------+----+---+----------+---------+----------+------+-----------+-----------+-------+------+--------+-------------+-------+--------+---------------------+------------------+------------------+-----------------+-----------------+----------------+-----------------+----------------+-----------------+-----------------+-----------------+-----------------+-----------------+-----------------+-----------------+-----------------+-----------------+----------------+-----------------+-----------------+-----------------+-----------------+-----------------+----------------+---------------+-----------------+---------------+\n",
      "|2015-01-28|1375586.0|           N|             ES|   H| 35|2015-01-12|        0|         6|     1|          1|          A|      S|     N|       0|          KHL|      N|      29|                    1|           87218.1| 02 - PARTICULARES|                0|                0|               1|                0|               0|                0|                0|                0|                0|                0|                0|                0|                0|                0|               0|                0|                0|                0|                0|                0|               0|              0|                0|              0|\n",
      "|2015-01-28|1050611.0|           N|             ES|   V| 23|2012-08-10|        0|        35|     1|          1|          I|      S|     S|       0|          KHE|      N|      13|                    0|          35548.74|03 - UNIVERSITARIO|                0|                0|               1|                0|               0|                0|                0|                0|                0|                0|                0|                0|                0|                0|               0|                0|                0|                0|                0|                0|               0|              0|                0|              0|\n",
      "|2015-01-28|1050612.0|           N|             ES|   V| 23|2012-08-10|        0|        35|     1|          1|          I|      S|     N|       0|          KHE|      N|      13|                    0|122179.11000000002|03 - UNIVERSITARIO|                0|                0|               1|                0|               0|                0|                0|                0|                0|                0|                0|                0|                0|                0|               0|                0|                0|                0|                0|                0|               0|              0|                0|              0|\n",
      "|2015-01-28|1050613.0|           N|             ES|   H| 22|2012-08-10|        0|        35|     1|          1|          I|      S|     N|       0|          KHD|      N|      50|                    0|         119775.54|03 - UNIVERSITARIO|                0|                0|               0|                0|               0|                0|                0|                0|                0|                1|                0|                0|                0|                0|               0|                0|                0|                0|                0|                0|               0|              0|                0|              0|\n",
      "|2015-01-28|1050614.0|           N|             ES|   V| 23|2012-08-10|        0|        35|     1|          1|          A|      S|     N|       0|          KHE|      N|      50|                    1|          101850.0|03 - UNIVERSITARIO|                0|                0|               1|                0|               0|                0|                0|                0|                0|                0|                0|                0|                0|                0|               0|                0|                0|                0|                0|                0|               0|              0|                0|              0|\n",
      "|2015-01-28|1050615.0|           N|             ES|   H| 23|2012-08-10|        0|        35|     1|          1|          I|      S|     N|       0|          KHE|      N|      45|                    0|          22220.04|03 - UNIVERSITARIO|                0|                0|               1|                0|               0|                0|                0|                0|                0|                0|                0|                0|                0|                0|               0|                0|                0|                0|                0|                0|               0|              0|                0|              0|\n",
      "|2015-01-28|1050616.0|           N|             ES|   H| 23|2012-08-10|        0|        35|     1|          1|          I|      S|     N|       0|          KHE|      N|      24|                    0|         295590.36|03 - UNIVERSITARIO|                0|                0|               1|                0|               0|                0|                0|                0|                0|                0|                0|                0|                0|                0|               0|                0|                0|                0|                0|                0|               0|              0|                0|              0|\n",
      "|2015-01-28|1050617.0|           N|             ES|   H| 23|2012-08-10|        0|        35|     1|          1|          A|      S|     N|       0|          KHE|      N|      50|                    1|         113316.66|03 - UNIVERSITARIO|                0|                0|               1|                0|               0|                0|                0|                0|                0|                0|                0|                0|                0|                0|               0|                0|                0|                0|                0|                0|               0|              0|                0|              0|\n",
      "|2015-01-28|1050619.0|           N|             ES|   H| 24|2012-08-10|        0|        35|     1|          1|          I|      S|     N|       0|          KHE|      N|      20|                    0|          101850.0|03 - UNIVERSITARIO|                0|                0|               1|                0|               0|                0|                0|                0|                0|                0|                0|                0|                0|                0|               0|                0|                0|                0|                0|                0|               0|              0|                0|              0|\n",
      "|2015-01-28|1050620.0|           N|             ES|   H| 23|2012-08-10|        0|        35|     1|          1|          I|      S|     N|       0|          KHE|      N|      10|                    0|         113194.98|03 - UNIVERSITARIO|                0|                0|               1|                0|               0|                0|                0|                0|                0|                0|                0|                0|                0|                0|               0|                0|                0|                0|                0|                0|               0|              0|                0|              0|\n",
      "|2015-01-28|1050621.0|           N|             ES|   V| 23|2012-08-10|        0|        35|     1|          1|          I|      S|     N|       0|          KHE|      N|      50|                    0|          72575.88|03 - UNIVERSITARIO|                0|                0|               1|                0|               0|                0|                0|                0|                0|                0|                0|                0|                0|                0|               0|                0|                0|                0|                0|                0|               0|              0|                0|              0|\n",
      "|2015-01-28|1050622.0|           N|             ES|   H| 23|2012-08-10|        0|        35|     1|          1|          I|      S|     N|       0|          KHE|      N|      17|                    0|          101850.0|03 - UNIVERSITARIO|                0|                0|               1|                0|               0|                0|                0|                0|                0|                0|                0|                0|                0|                0|               0|                0|                0|                0|                0|                0|               0|              0|                0|              0|\n",
      "|2015-01-28|1050623.0|           N|             ES|   H| 23|2012-08-10|        0|        35|     1|          1|          A|      S|     N|       0|          KHE|      N|      49|                    1|         113538.81|03 - UNIVERSITARIO|                0|                0|               1|                0|               0|                0|                0|                0|                0|                0|                0|                0|                0|                0|               0|                0|                0|                0|                0|                0|               0|              0|                0|              0|\n",
      "|2015-01-28|1050624.0|           N|             ES|   H| 65|2012-08-10|        0|        35|     1|          1|          A|      S|     N|       0|          KHE|      N|      50|                    1|          61605.09| 02 - PARTICULARES|                0|                0|               1|                0|               0|                0|                0|                0|                0|                0|                0|                0|                0|                0|               0|                0|                0|                0|                0|                0|               0|              0|                0|              0|\n",
      "|2015-01-28|1050625.0|           N|             ES|   V| 23|2012-08-10|        0|        35|     1|          1|          A|      S|     N|       0|          KHE|      N|      49|                    1|          101850.0|03 - UNIVERSITARIO|                0|                0|               1|                0|               0|                0|                0|                0|                0|                0|                0|                0|                0|                0|               0|                0|                0|                0|                0|                0|               0|              0|                0|              0|\n",
      "|2015-01-28|1050626.0|           N|             ES|   V| 23|2012-08-10|        0|        35|     1|          1|          A|      S|     N|       0|          KHE|      N|       8|                    1|          101850.0|03 - UNIVERSITARIO|                0|                0|               1|                0|               0|                0|                0|                0|                0|                0|                0|                0|                0|                0|               0|                0|                0|                0|                0|                0|               0|              0|                0|              0|\n",
      "|2015-01-28|1050610.0|           N|             ES|   V| 24|2012-08-10|        0|        35|     1|          1|          I|      S|     N|       0|          KHE|      N|      37|                    1| 68318.45999999999|03 - UNIVERSITARIO|                0|                0|               1|                0|               0|                0|                0|                0|                0|                0|                0|                0|                0|                0|               0|                0|                0|                0|                0|                0|               0|              0|                0|              0|\n",
      "|2015-01-28|1050627.0|           N|             ES|   H| 23|2012-08-10|        0|        35|     1|          1|          I|      S|     N|       0|          KHE|      N|      13|                    0|          65608.35|03 - UNIVERSITARIO|                0|                0|               1|                0|               0|                0|                0|                0|                0|                0|                0|                0|                0|                0|               0|                0|                0|                0|                0|                0|               0|              0|                0|              0|\n",
      "|2015-01-28|1050609.0|           N|             ES|   H| 22|2012-08-10|        0|        35|     1|          1|          I|      S|     N|       0|          KFA|      N|      13|                    1|          73432.47|03 - UNIVERSITARIO|                0|                0|               1|                0|               0|                0|                0|                0|                0|                0|                0|                0|                0|                0|               0|                0|                0|                0|                0|                0|               0|              0|                0|              0|\n",
      "|2015-01-28|1050605.0|           N|             ES|   V| 23|2012-08-10|        0|        35|     1|          1|          I|      S|     N|       0|          KHE|      N|      45|                    0|          101850.0|03 - UNIVERSITARIO|                0|                0|               1|                0|               0|                0|                0|                0|                0|                0|                0|                0|                0|                0|               0|                0|                0|                0|                0|                0|               0|              0|                0|              0|\n",
      "+----------+---------+------------+---------------+----+---+----------+---------+----------+------+-----------+-----------+-------+------+--------+-------------+-------+--------+---------------------+------------------+------------------+-----------------+-----------------+----------------+-----------------+----------------+-----------------+-----------------+-----------------+-----------------+-----------------+-----------------+-----------------+-----------------+-----------------+----------------+-----------------+-----------------+-----------------+-----------------+-----------------+----------------+---------------+-----------------+---------------+\n",
      "only showing top 20 rows\n",
      "\n"
     ]
    }
   ],
   "source": [
    "df.show()"
   ]
  },
  {
   "cell_type": "code",
   "execution_count": 2,
   "metadata": {},
   "outputs": [
    {
     "name": "stderr",
     "output_type": "stream",
     "text": [
      "25/02/18 14:20:38 WARN SparkStringUtils: Truncated the string representation of a plan since it was too large. This behavior can be adjusted by setting 'spark.sql.debug.maxToStringFields'.\n"
     ]
    },
    {
     "name": "stdout",
     "output_type": "stream",
     "text": [
      "+----------+--------+------------+---------------+----+---+---------+----------+------+-----------+-----------+-------+------+-------------+-------+--------+---------------------+------------------+------------------+-----------------+-----------------+----------------+-----------------+----------------+-----------------+-----------------+-----------------+-----------------+-----------------+-----------------+-----------------+-----------------+-----------------+----------------+-----------------+-----------------+-----------------+-----------------+-----------------+----------------+---------------+-----------------+---------------+\n",
      "|fecha_dato|ncodpers|ind_empleado|pais_residencia|sexo|age|ind_nuevo|antiguedad|indrel|indrel_1mes|tiprel_1mes|indresi|indext|canal_entrada|indfall|cod_prov|ind_actividad_cliente|             renta|          segmento|ind_ahor_fin_ult1|ind_aval_fin_ult1|ind_cco_fin_ult1|ind_cder_fin_ult1|ind_cno_fin_ult1|ind_ctju_fin_ult1|ind_ctma_fin_ult1|ind_ctop_fin_ult1|ind_ctpp_fin_ult1|ind_deco_fin_ult1|ind_deme_fin_ult1|ind_dela_fin_ult1|ind_ecue_fin_ult1|ind_fond_fin_ult1|ind_hip_fin_ult1|ind_plan_fin_ult1|ind_pres_fin_ult1|ind_reca_fin_ult1|ind_tjcr_fin_ult1|ind_valo_fin_ult1|ind_viv_fin_ult1|ind_nomina_ult1|ind_nom_pens_ult1|ind_recibo_ult1|\n",
      "+----------+--------+------------+---------------+----+---+---------+----------+------+-----------+-----------+-------+------+-------------+-------+--------+---------------------+------------------+------------------+-----------------+-----------------+----------------+-----------------+----------------+-----------------+-----------------+-----------------+-----------------+-----------------+-----------------+-----------------+-----------------+-----------------+----------------+-----------------+-----------------+-----------------+-----------------+-----------------+----------------+---------------+-----------------+---------------+\n",
      "|2015-01-28| 1375586|           N|             ES|   H| 35|        0|         6|     1|          1|          A|      1|     0|       Others|      0|      29|                    1|           87218.1| 02 - PARTICULARES|                0|                0|               1|                0|               0|                0|                0|                0|                0|                0|                0|                0|                0|                0|               0|                0|                0|                0|                0|                0|               0|              0|                0|              0|\n",
      "|2015-01-28| 1050611|           N|             ES|   V| 23|        0|        35|     1|          1|          I|      1|     1|          KHE|      0|      13|                    0|          35548.74|03 - UNIVERSITARIO|                0|                0|               1|                0|               0|                0|                0|                0|                0|                0|                0|                0|                0|                0|               0|                0|                0|                0|                0|                0|               0|              0|                0|              0|\n",
      "|2015-01-28| 1050612|           N|             ES|   V| 23|        0|        35|     1|          1|          I|      1|     0|          KHE|      0|      13|                    0|122179.11000000002|03 - UNIVERSITARIO|                0|                0|               1|                0|               0|                0|                0|                0|                0|                0|                0|                0|                0|                0|               0|                0|                0|                0|                0|                0|               0|              0|                0|              0|\n",
      "|2015-01-28| 1050613|           N|             ES|   H| 22|        0|        35|     1|          1|          I|      1|     0|       Others|      0|      50|                    0|         119775.54|03 - UNIVERSITARIO|                0|                0|               0|                0|               0|                0|                0|                0|                0|                1|                0|                0|                0|                0|               0|                0|                0|                0|                0|                0|               0|              0|                0|              0|\n",
      "|2015-01-28| 1050614|           N|             ES|   V| 23|        0|        35|     1|          1|          A|      1|     0|          KHE|      0|      50|                    1|         101894.16|03 - UNIVERSITARIO|                0|                0|               1|                0|               0|                0|                0|                0|                0|                0|                0|                0|                0|                0|               0|                0|                0|                0|                0|                0|               0|              0|                0|              0|\n",
      "|2015-01-28| 1050615|           N|             ES|   H| 23|        0|        35|     1|          1|          I|      1|     0|          KHE|      0|      45|                    0|          22220.04|03 - UNIVERSITARIO|                0|                0|               1|                0|               0|                0|                0|                0|                0|                0|                0|                0|                0|                0|               0|                0|                0|                0|                0|                0|               0|              0|                0|              0|\n",
      "|2015-01-28| 1050616|           N|             ES|   H| 23|        0|        35|     1|          1|          I|      1|     0|          KHE|      0|      24|                    0|         295590.36|03 - UNIVERSITARIO|                0|                0|               1|                0|               0|                0|                0|                0|                0|                0|                0|                0|                0|                0|               0|                0|                0|                0|                0|                0|               0|              0|                0|              0|\n",
      "|2015-01-28| 1050617|           N|             ES|   H| 23|        0|        35|     1|          1|          A|      1|     0|          KHE|      0|      50|                    1|         113316.66|03 - UNIVERSITARIO|                0|                0|               1|                0|               0|                0|                0|                0|                0|                0|                0|                0|                0|                0|               0|                0|                0|                0|                0|                0|               0|              0|                0|              0|\n",
      "|2015-01-28| 1050619|           N|             ES|   H| 24|        0|        35|     1|          1|          I|      1|     0|          KHE|      0|      20|                    0|         101894.16|03 - UNIVERSITARIO|                0|                0|               1|                0|               0|                0|                0|                0|                0|                0|                0|                0|                0|                0|               0|                0|                0|                0|                0|                0|               0|              0|                0|              0|\n",
      "|2015-01-28| 1050620|           N|             ES|   H| 23|        0|        35|     1|          1|          I|      1|     0|          KHE|      0|      10|                    0|         113194.98|03 - UNIVERSITARIO|                0|                0|               1|                0|               0|                0|                0|                0|                0|                0|                0|                0|                0|                0|               0|                0|                0|                0|                0|                0|               0|              0|                0|              0|\n",
      "|2015-01-28| 1050621|           N|             ES|   V| 23|        0|        35|     1|          1|          I|      1|     0|          KHE|      0|      50|                    0|          72575.88|03 - UNIVERSITARIO|                0|                0|               1|                0|               0|                0|                0|                0|                0|                0|                0|                0|                0|                0|               0|                0|                0|                0|                0|                0|               0|              0|                0|              0|\n",
      "|2015-01-28| 1050622|           N|             ES|   H| 23|        0|        35|     1|          1|          I|      1|     0|          KHE|      0|      17|                    0|         101894.16|03 - UNIVERSITARIO|                0|                0|               1|                0|               0|                0|                0|                0|                0|                0|                0|                0|                0|                0|               0|                0|                0|                0|                0|                0|               0|              0|                0|              0|\n",
      "|2015-01-28| 1050623|           N|             ES|   H| 23|        0|        35|     1|          1|          A|      1|     0|          KHE|      0|      49|                    1|         113538.81|03 - UNIVERSITARIO|                0|                0|               1|                0|               0|                0|                0|                0|                0|                0|                0|                0|                0|                0|               0|                0|                0|                0|                0|                0|               0|              0|                0|              0|\n",
      "|2015-01-28| 1050624|           N|             ES|   H| 65|        0|        35|     1|          1|          A|      1|     0|          KHE|      0|      50|                    1|          61605.09| 02 - PARTICULARES|                0|                0|               1|                0|               0|                0|                0|                0|                0|                0|                0|                0|                0|                0|               0|                0|                0|                0|                0|                0|               0|              0|                0|              0|\n",
      "|2015-01-28| 1050625|           N|             ES|   V| 23|        0|        35|     1|          1|          A|      1|     0|          KHE|      0|      49|                    1|         101894.16|03 - UNIVERSITARIO|                0|                0|               1|                0|               0|                0|                0|                0|                0|                0|                0|                0|                0|                0|               0|                0|                0|                0|                0|                0|               0|              0|                0|              0|\n",
      "|2015-01-28| 1050626|           N|             ES|   V| 23|        0|        35|     1|          1|          A|      1|     0|          KHE|      0|       8|                    1|         101894.16|03 - UNIVERSITARIO|                0|                0|               1|                0|               0|                0|                0|                0|                0|                0|                0|                0|                0|                0|               0|                0|                0|                0|                0|                0|               0|              0|                0|              0|\n",
      "|2015-01-28| 1050610|           N|             ES|   V| 24|        0|        35|     1|          1|          I|      1|     0|          KHE|      0|      37|                    1| 68318.45999999999|03 - UNIVERSITARIO|                0|                0|               1|                0|               0|                0|                0|                0|                0|                0|                0|                0|                0|                0|               0|                0|                0|                0|                0|                0|               0|              0|                0|              0|\n",
      "|2015-01-28| 1050627|           N|             ES|   H| 23|        0|        35|     1|          1|          I|      1|     0|          KHE|      0|      13|                    0|          65608.35|03 - UNIVERSITARIO|                0|                0|               1|                0|               0|                0|                0|                0|                0|                0|                0|                0|                0|                0|               0|                0|                0|                0|                0|                0|               0|              0|                0|              0|\n",
      "|2015-01-28| 1050609|           N|             ES|   H| 22|        0|        35|     1|          1|          I|      1|     0|       Others|      0|      13|                    1|          73432.47|03 - UNIVERSITARIO|                0|                0|               1|                0|               0|                0|                0|                0|                0|                0|                0|                0|                0|                0|               0|                0|                0|                0|                0|                0|               0|              0|                0|              0|\n",
      "|2015-01-28| 1050605|           N|             ES|   V| 23|        0|        35|     1|          1|          I|      1|     0|          KHE|      0|      45|                    0|         101894.16|03 - UNIVERSITARIO|                0|                0|               1|                0|               0|                0|                0|                0|                0|                0|                0|                0|                0|                0|               0|                0|                0|                0|                0|                0|               0|              0|                0|              0|\n",
      "+----------+--------+------------+---------------+----+---+---------+----------+------+-----------+-----------+-------+------+-------------+-------+--------+---------------------+------------------+------------------+-----------------+-----------------+----------------+-----------------+----------------+-----------------+-----------------+-----------------+-----------------+-----------------+-----------------+-----------------+-----------------+-----------------+----------------+-----------------+-----------------+-----------------+-----------------+-----------------+----------------+---------------+-----------------+---------------+\n",
      "only showing top 20 rows\n",
      "\n"
     ]
    }
   ],
   "source": [
    "df = df.replace([\"S\", \"N\"], [\"1\", \"0\"], subset=[\"indresi\", \"indext\"])\n",
    "df = df.withColumns({\n",
    "    \"indresi\": df.indresi.cast(\"int\"),\n",
    "    \"indext\": df.indext.cast(\"int\")\n",
    "})\n",
    "df.show()"
   ]
  },
  {
   "cell_type": "code",
   "execution_count": 3,
   "metadata": {},
   "outputs": [
    {
     "name": "stderr",
     "output_type": "stream",
     "text": [
      "25/02/18 14:20:43 WARN WindowExec: No Partition Defined for Window operation! Moving all data to a single partition, this can cause serious performance degradation.\n",
      "25/02/18 14:20:43 WARN WindowExec: No Partition Defined for Window operation! Moving all data to a single partition, this can cause serious performance degradation.\n",
      "25/02/18 14:20:43 WARN WindowExec: No Partition Defined for Window operation! Moving all data to a single partition, this can cause serious performance degradation.\n",
      "25/02/18 14:20:50 WARN WindowExec: No Partition Defined for Window operation! Moving all data to a single partition, this can cause serious performance degradation.\n",
      "25/02/18 14:20:50 WARN WindowExec: No Partition Defined for Window operation! Moving all data to a single partition, this can cause serious performance degradation.\n",
      "25/02/18 14:20:50 WARN WindowExec: No Partition Defined for Window operation! Moving all data to a single partition, this can cause serious performance degradation.\n"
     ]
    },
    {
     "name": "stdout",
     "output_type": "stream",
     "text": [
      "+----------+---------+\n",
      "|fecha_dato|month_idx|\n",
      "+----------+---------+\n",
      "|2015-01-28|        1|\n",
      "|2015-02-28|        2|\n",
      "|2015-03-28|        3|\n",
      "|2015-04-28|        4|\n",
      "|2015-05-28|        5|\n",
      "|2015-06-28|        6|\n",
      "|2015-07-28|        7|\n",
      "|2015-08-28|        8|\n",
      "|2015-09-28|        9|\n",
      "|2015-10-28|       10|\n",
      "|2015-11-28|       11|\n",
      "|2015-12-28|       12|\n",
      "|2016-01-28|       13|\n",
      "|2016-02-28|       14|\n",
      "|2016-03-28|       15|\n",
      "|2016-04-28|       16|\n",
      "|2016-05-28|       17|\n",
      "+----------+---------+\n",
      "\n"
     ]
    },
    {
     "name": "stderr",
     "output_type": "stream",
     "text": [
      "                                                                                \r"
     ]
    }
   ],
   "source": [
    "from pyspark.sql import Window\n",
    "from pyspark.sql import functions as F\n",
    "\n",
    "\n",
    "date_df = df.select(\"fecha_dato\").distinct()\n",
    "date_window = Window.orderBy(date_df.fecha_dato)\n",
    "date_df = date_df.withColumn(\"month_idx\", F.row_number().over(date_window))\n",
    "date_df.show()"
   ]
  },
  {
   "cell_type": "code",
   "execution_count": 4,
   "metadata": {},
   "outputs": [
    {
     "name": "stderr",
     "output_type": "stream",
     "text": [
      "25/02/18 14:20:55 WARN WindowExec: No Partition Defined for Window operation! Moving all data to a single partition, this can cause serious performance degradation.\n",
      "25/02/18 14:20:55 WARN WindowExec: No Partition Defined for Window operation! Moving all data to a single partition, this can cause serious performance degradation.\n",
      "25/02/18 14:21:14 WARN WindowExec: No Partition Defined for Window operation! Moving all data to a single partition, this can cause serious performance degradation.\n",
      "25/02/18 14:21:14 WARN WindowExec: No Partition Defined for Window operation! Moving all data to a single partition, this can cause serious performance degradation.\n",
      "25/02/18 14:21:14 WARN WindowExec: No Partition Defined for Window operation! Moving all data to a single partition, this can cause serious performance degradation.\n",
      "25/02/18 14:21:14 WARN WindowExec: No Partition Defined for Window operation! Moving all data to a single partition, this can cause serious performance degradation.\n",
      "                                                                                \r"
     ]
    },
    {
     "name": "stdout",
     "output_type": "stream",
     "text": [
      "+----------+--------+------------+---------------+----+---+---------+----------+------+-----------+-----------+-------+------+-------------+-------+--------+---------------------+-----------------+-----------------+-----------------+-----------------+----------------+-----------------+----------------+-----------------+-----------------+-----------------+-----------------+-----------------+-----------------+-----------------+-----------------+-----------------+----------------+-----------------+-----------------+-----------------+-----------------+-----------------+----------------+---------------+-----------------+---------------+---------+\n",
      "|fecha_dato|ncodpers|ind_empleado|pais_residencia|sexo|age|ind_nuevo|antiguedad|indrel|indrel_1mes|tiprel_1mes|indresi|indext|canal_entrada|indfall|cod_prov|ind_actividad_cliente|            renta|         segmento|ind_ahor_fin_ult1|ind_aval_fin_ult1|ind_cco_fin_ult1|ind_cder_fin_ult1|ind_cno_fin_ult1|ind_ctju_fin_ult1|ind_ctma_fin_ult1|ind_ctop_fin_ult1|ind_ctpp_fin_ult1|ind_deco_fin_ult1|ind_deme_fin_ult1|ind_dela_fin_ult1|ind_ecue_fin_ult1|ind_fond_fin_ult1|ind_hip_fin_ult1|ind_plan_fin_ult1|ind_pres_fin_ult1|ind_reca_fin_ult1|ind_tjcr_fin_ult1|ind_valo_fin_ult1|ind_viv_fin_ult1|ind_nomina_ult1|ind_nom_pens_ult1|ind_recibo_ult1|month_idx|\n",
      "+----------+--------+------------+---------------+----+---+---------+----------+------+-----------+-----------+-------+------+-------------+-------+--------+---------------------+-----------------+-----------------+-----------------+-----------------+----------------+-----------------+----------------+-----------------+-----------------+-----------------+-----------------+-----------------+-----------------+-----------------+-----------------+-----------------+----------------+-----------------+-----------------+-----------------+-----------------+-----------------+----------------+---------------+-----------------+---------------+---------+\n",
      "|2015-02-28|  545090|           N|             ES|   V| 67|        0|       120|     1|          1|          I|      1|     0|          KAT|      0|       8|                    0|         96799.17|02 - PARTICULARES|                0|                0|               1|                0|               0|                0|                0|                0|                0|                0|                0|                0|                0|                0|               0|                0|                0|                0|                0|                0|               0|              0|                0|              0|        2|\n",
      "|2015-02-28|  545106|           N|             ES|   H| 40|        0|       120|     1|          1|          A|      1|     0|          KAT|      0|       4|                    1|        109069.38|02 - PARTICULARES|                0|                0|               0|                0|               0|                0|                0|                0|                0|                0|                0|                0|                0|                0|               0|                0|                0|                0|                1|                0|               0|              0|                0|              0|        2|\n",
      "|2015-02-28|  545103|           N|             ES|   V| 45|        0|       120|     1|          1|          I|      1|     0|          KFC|      0|      48|                    0|        101894.16|02 - PARTICULARES|                0|                0|               1|                0|               0|                0|                0|                0|                0|                0|                0|                0|                0|                0|               0|                0|                0|                0|                0|                0|               0|              0|                0|              0|        2|\n",
      "|2015-02-28|  545102|           N|             ES|   V| 46|        0|       120|     1|          1|          I|      1|     0|          KAT|      0|      28|                    0|        197658.42|02 - PARTICULARES|                0|                0|               1|                0|               0|                0|                0|                0|                0|                0|                0|                0|                0|                0|               0|                0|                0|                0|                0|                0|               0|              0|                0|              0|        2|\n",
      "|2015-02-28|  545101|           N|             ES|   V| 38|        0|       120|     1|          1|          A|      1|     0|          KFC|      0|       2|                    1|         39102.93|02 - PARTICULARES|                0|                0|               1|                0|               0|                0|                0|                0|                1|                0|                0|                0|                0|                0|               0|                0|                0|                0|                0|                0|               0|              0|                0|              0|        2|\n",
      "|2015-02-28|  545158|           N|             ES|   V| 47|        0|       108|     1|          1|          A|      1|     0|          KAT|      0|       3|                    1|        101894.16|02 - PARTICULARES|                0|                0|               1|                0|               0|                0|                0|                0|                0|                0|                0|                0|                0|                0|               0|                0|                1|                0|                0|                0|               0|              0|                0|              0|        2|\n",
      "|2015-02-28|  545100|           N|             ES|   V| 43|        0|       120|     1|          1|          A|      1|     0|          KFC|      0|       3|                    1|77505.56999999999|02 - PARTICULARES|                0|                0|               0|                0|               0|                0|                0|                0|                0|                0|                0|                0|                0|                0|               1|                1|                0|                0|                1|                0|               0|              1|                1|              1|        2|\n",
      "|2015-02-28|  545099|           N|             ES|   V| 45|        0|       120|     1|          1|          I|      1|     0|          KAT|      0|      28|                    1|         62736.12|02 - PARTICULARES|                0|                0|               1|                0|               0|                0|                0|                0|                0|                0|                0|                0|                0|                0|               0|                0|                0|                0|                0|                0|               0|              0|                0|              0|        2|\n",
      "|2015-02-28|  545092|           N|             ES|   V| 66|        0|       120|     1|          1|          A|      1|     0|          KFC|      0|      28|                    1|        101894.16|02 - PARTICULARES|                0|                0|               1|                0|               0|                0|                0|                0|                0|                0|                0|                1|                0|                0|               0|                0|                0|                0|                0|                0|               0|              0|                0|              0|        2|\n",
      "|2015-02-28|  545091|           N|             ES|   V| 41|        0|       120|     1|          1|          A|      1|     0|          KFC|      0|      41|                    1|         81002.49|02 - PARTICULARES|                0|                0|               0|                0|               1|                0|                0|                1|                0|                0|                0|                0|                0|                0|               0|                0|                0|                0|                1|                0|               0|              1|                1|              1|        2|\n",
      "|2015-02-28|  545098|           N|             ES|   V| 55|        0|       120|     1|          1|          A|      1|     0|          KAT|      0|       8|                    1|        140341.47|02 - PARTICULARES|                0|                0|               1|                0|               0|                0|                0|                0|                0|                0|                0|                0|                0|                0|               0|                0|                0|                0|                0|                0|               0|              0|                0|              0|        2|\n",
      "|2015-02-28|  545086|           N|             ES|   V| 42|        0|       120|     1|          1|          A|      1|     0|          KFC|      0|      45|                    1|         73390.08|02 - PARTICULARES|                0|                0|               1|                0|               0|                0|                0|                0|                0|                0|                0|                0|                0|                0|               0|                0|                0|                1|                0|                0|               0|              0|                0|              1|        2|\n",
      "|2015-02-28|  545093|           N|             ES|   H| 68|        0|       117|     1|          1|          I|      1|     0|       Others|      0|      28|                    0|        124617.42|02 - PARTICULARES|                0|                0|               1|                0|               0|                0|                0|                0|                0|                0|                0|                0|                0|                0|               0|                0|                0|                0|                0|                0|               0|              0|                0|              0|        2|\n",
      "|2015-02-28|  545107|           N|             ES|   H| 65|        0|       120|     1|          1|          I|      1|     0|       Others|      0|      28|                    0|        101894.16|02 - PARTICULARES|                0|                0|               1|                0|               0|                0|                0|                0|                0|                0|                0|                0|                0|                0|               0|                0|                0|                0|                0|                0|               0|              0|                0|              0|        2|\n",
      "|2015-02-28|  545123|           N|             ES|   V| 38|        0|       120|     1|          1|          I|      1|     0|          KFC|      0|      28|                    0|         239010.9|02 - PARTICULARES|                0|                0|               1|                0|               0|                0|                0|                0|                0|                0|                0|                0|                0|                0|               0|                0|                0|                0|                0|                0|               0|              0|                0|              0|        2|\n",
      "|2015-02-28|  545110|           N|             ES|   V| 54|        0|       120|     1|          1|          A|      1|     0|          KAT|      0|      33|                    1|        101894.16|02 - PARTICULARES|                0|                0|               1|                0|               0|                0|                0|                0|                0|                0|                0|                0|                0|                0|               0|                0|                0|                0|                0|                0|               0|              0|                0|              0|        2|\n",
      "|2015-02-28|  545163|           N|             ES|   V| 46|        0|       119|     1|          1|          I|      1|     0|          KAT|      0|      28|                    1|         311757.0|02 - PARTICULARES|                0|                0|               1|                0|               0|                0|                0|                0|                0|                0|                0|                0|                0|                0|               0|                0|                0|                0|                0|                0|               0|              0|                0|              0|        2|\n",
      "|2015-02-28|  545148|           N|             ES|   H| 42|        0|       120|     1|          1|          A|      1|     0|          KFC|      0|      14|                    1|        155256.84|02 - PARTICULARES|                0|                0|               1|                0|               0|                0|                0|                0|                0|                0|                0|                0|                0|                0|               0|                0|                0|                0|                0|                0|               1|              0|                0|              0|        2|\n",
      "|2015-02-28|  545146|           N|             ES|   H| 51|        0|       120|     1|          1|          I|      1|     0|          KFC|      0|      28|                    1|        163046.79|02 - PARTICULARES|                0|                0|               1|                0|               0|                0|                0|                1|                0|                0|                0|                0|                0|                0|               0|                0|                0|                0|                0|                0|               0|              0|                0|              0|        2|\n",
      "|2015-02-28|  545130|           N|             ES|   V| 50|        0|        40|     1|          1|          I|      1|     0|          KAT|      0|      28|                    0|43560.60000000001|02 - PARTICULARES|                0|                0|               1|                0|               0|                0|                0|                0|                0|                0|                0|                0|                0|                0|               0|                0|                0|                0|                0|                0|               0|              0|                0|              0|        2|\n",
      "+----------+--------+------------+---------------+----+---+---------+----------+------+-----------+-----------+-------+------+-------------+-------+--------+---------------------+-----------------+-----------------+-----------------+-----------------+----------------+-----------------+----------------+-----------------+-----------------+-----------------+-----------------+-----------------+-----------------+-----------------+-----------------+-----------------+----------------+-----------------+-----------------+-----------------+-----------------+-----------------+----------------+---------------+-----------------+---------------+---------+\n",
      "only showing top 20 rows\n",
      "\n"
     ]
    }
   ],
   "source": [
    "df = df.join(date_df, on=\"fecha_dato\")\n",
    "df.show()"
   ]
  },
  {
   "cell_type": "markdown",
   "metadata": {},
   "source": [
    "## Vectorize\n",
    "### Vectorize product cols"
   ]
  },
  {
   "cell_type": "code",
   "execution_count": 6,
   "metadata": {},
   "outputs": [
    {
     "name": "stderr",
     "output_type": "stream",
     "text": [
      "25/02/18 14:26:41 WARN WindowExec: No Partition Defined for Window operation! Moving all data to a single partition, this can cause serious performance degradation.\n",
      "25/02/18 14:26:41 WARN WindowExec: No Partition Defined for Window operation! Moving all data to a single partition, this can cause serious performance degradation.\n",
      "25/02/18 14:26:59 WARN WindowExec: No Partition Defined for Window operation! Moving all data to a single partition, this can cause serious performance degradation.\n",
      "25/02/18 14:26:59 WARN WindowExec: No Partition Defined for Window operation! Moving all data to a single partition, this can cause serious performance degradation.\n",
      "25/02/18 14:26:59 WARN WindowExec: No Partition Defined for Window operation! Moving all data to a single partition, this can cause serious performance degradation.\n",
      "25/02/18 14:26:59 WARN WindowExec: No Partition Defined for Window operation! Moving all data to a single partition, this can cause serious performance degradation.\n",
      "                                                                                \r"
     ]
    },
    {
     "name": "stdout",
     "output_type": "stream",
     "text": [
      "+----------+--------+------------+---------------+----+---+---------+----------+------+-----------+-----------+-------+------+-------------+-------+--------+---------------------+-----------------+-----------------+-----------------+-----------------+----------------+-----------------+----------------+-----------------+-----------------+-----------------+-----------------+-----------------+-----------------+-----------------+-----------------+-----------------+----------------+-----------------+-----------------+-----------------+-----------------+-----------------+----------------+---------------+-----------------+---------------+---------+--------------------+\n",
      "|fecha_dato|ncodpers|ind_empleado|pais_residencia|sexo|age|ind_nuevo|antiguedad|indrel|indrel_1mes|tiprel_1mes|indresi|indext|canal_entrada|indfall|cod_prov|ind_actividad_cliente|            renta|         segmento|ind_ahor_fin_ult1|ind_aval_fin_ult1|ind_cco_fin_ult1|ind_cder_fin_ult1|ind_cno_fin_ult1|ind_ctju_fin_ult1|ind_ctma_fin_ult1|ind_ctop_fin_ult1|ind_ctpp_fin_ult1|ind_deco_fin_ult1|ind_deme_fin_ult1|ind_dela_fin_ult1|ind_ecue_fin_ult1|ind_fond_fin_ult1|ind_hip_fin_ult1|ind_plan_fin_ult1|ind_pres_fin_ult1|ind_reca_fin_ult1|ind_tjcr_fin_ult1|ind_valo_fin_ult1|ind_viv_fin_ult1|ind_nomina_ult1|ind_nom_pens_ult1|ind_recibo_ult1|month_idx|         product_vec|\n",
      "+----------+--------+------------+---------------+----+---+---------+----------+------+-----------+-----------+-------+------+-------------+-------+--------+---------------------+-----------------+-----------------+-----------------+-----------------+----------------+-----------------+----------------+-----------------+-----------------+-----------------+-----------------+-----------------+-----------------+-----------------+-----------------+-----------------+----------------+-----------------+-----------------+-----------------+-----------------+-----------------+----------------+---------------+-----------------+---------------+---------+--------------------+\n",
      "|2015-02-28|  545090|           N|             ES|   V| 67|        0|       120|     1|          1|          I|      1|     0|          KAT|      0|       8|                    0|         96799.17|02 - PARTICULARES|                0|                0|               1|                0|               0|                0|                0|                0|                0|                0|                0|                0|                0|                0|               0|                0|                0|                0|                0|                0|               0|              0|                0|              0|        2|      (24,[2],[1.0])|\n",
      "|2015-02-28|  545106|           N|             ES|   H| 40|        0|       120|     1|          1|          A|      1|     0|          KAT|      0|       4|                    1|        109069.38|02 - PARTICULARES|                0|                0|               0|                0|               0|                0|                0|                0|                0|                0|                0|                0|                0|                0|               0|                0|                0|                0|                1|                0|               0|              0|                0|              0|        2|     (24,[18],[1.0])|\n",
      "|2015-02-28|  545103|           N|             ES|   V| 45|        0|       120|     1|          1|          I|      1|     0|          KFC|      0|      48|                    0|        101894.16|02 - PARTICULARES|                0|                0|               1|                0|               0|                0|                0|                0|                0|                0|                0|                0|                0|                0|               0|                0|                0|                0|                0|                0|               0|              0|                0|              0|        2|      (24,[2],[1.0])|\n",
      "|2015-02-28|  545102|           N|             ES|   V| 46|        0|       120|     1|          1|          I|      1|     0|          KAT|      0|      28|                    0|        197658.42|02 - PARTICULARES|                0|                0|               1|                0|               0|                0|                0|                0|                0|                0|                0|                0|                0|                0|               0|                0|                0|                0|                0|                0|               0|              0|                0|              0|        2|      (24,[2],[1.0])|\n",
      "|2015-02-28|  545101|           N|             ES|   V| 38|        0|       120|     1|          1|          A|      1|     0|          KFC|      0|       2|                    1|         39102.93|02 - PARTICULARES|                0|                0|               1|                0|               0|                0|                0|                0|                1|                0|                0|                0|                0|                0|               0|                0|                0|                0|                0|                0|               0|              0|                0|              0|        2|(24,[2,8],[1.0,1.0])|\n",
      "|2015-02-28|  545158|           N|             ES|   V| 47|        0|       108|     1|          1|          A|      1|     0|          KAT|      0|       3|                    1|        101894.16|02 - PARTICULARES|                0|                0|               1|                0|               0|                0|                0|                0|                0|                0|                0|                0|                0|                0|               0|                0|                1|                0|                0|                0|               0|              0|                0|              0|        2|(24,[2,16],[1.0,1...|\n",
      "|2015-02-28|  545100|           N|             ES|   V| 43|        0|       120|     1|          1|          A|      1|     0|          KFC|      0|       3|                    1|77505.56999999999|02 - PARTICULARES|                0|                0|               0|                0|               0|                0|                0|                0|                0|                0|                0|                0|                0|                0|               1|                1|                0|                0|                1|                0|               0|              1|                1|              1|        2|(24,[14,15,18,21,...|\n",
      "|2015-02-28|  545099|           N|             ES|   V| 45|        0|       120|     1|          1|          I|      1|     0|          KAT|      0|      28|                    1|         62736.12|02 - PARTICULARES|                0|                0|               1|                0|               0|                0|                0|                0|                0|                0|                0|                0|                0|                0|               0|                0|                0|                0|                0|                0|               0|              0|                0|              0|        2|      (24,[2],[1.0])|\n",
      "|2015-02-28|  545092|           N|             ES|   V| 66|        0|       120|     1|          1|          A|      1|     0|          KFC|      0|      28|                    1|        101894.16|02 - PARTICULARES|                0|                0|               1|                0|               0|                0|                0|                0|                0|                0|                0|                1|                0|                0|               0|                0|                0|                0|                0|                0|               0|              0|                0|              0|        2|(24,[2,11],[1.0,1...|\n",
      "|2015-02-28|  545091|           N|             ES|   V| 41|        0|       120|     1|          1|          A|      1|     0|          KFC|      0|      41|                    1|         81002.49|02 - PARTICULARES|                0|                0|               0|                0|               1|                0|                0|                1|                0|                0|                0|                0|                0|                0|               0|                0|                0|                0|                1|                0|               0|              1|                1|              1|        2|(24,[4,7,18,21,22...|\n",
      "|2015-02-28|  545098|           N|             ES|   V| 55|        0|       120|     1|          1|          A|      1|     0|          KAT|      0|       8|                    1|        140341.47|02 - PARTICULARES|                0|                0|               1|                0|               0|                0|                0|                0|                0|                0|                0|                0|                0|                0|               0|                0|                0|                0|                0|                0|               0|              0|                0|              0|        2|      (24,[2],[1.0])|\n",
      "|2015-02-28|  545086|           N|             ES|   V| 42|        0|       120|     1|          1|          A|      1|     0|          KFC|      0|      45|                    1|         73390.08|02 - PARTICULARES|                0|                0|               1|                0|               0|                0|                0|                0|                0|                0|                0|                0|                0|                0|               0|                0|                0|                1|                0|                0|               0|              0|                0|              1|        2|(24,[2,17,23],[1....|\n",
      "|2015-02-28|  545093|           N|             ES|   H| 68|        0|       117|     1|          1|          I|      1|     0|       Others|      0|      28|                    0|        124617.42|02 - PARTICULARES|                0|                0|               1|                0|               0|                0|                0|                0|                0|                0|                0|                0|                0|                0|               0|                0|                0|                0|                0|                0|               0|              0|                0|              0|        2|      (24,[2],[1.0])|\n",
      "|2015-02-28|  545107|           N|             ES|   H| 65|        0|       120|     1|          1|          I|      1|     0|       Others|      0|      28|                    0|        101894.16|02 - PARTICULARES|                0|                0|               1|                0|               0|                0|                0|                0|                0|                0|                0|                0|                0|                0|               0|                0|                0|                0|                0|                0|               0|              0|                0|              0|        2|      (24,[2],[1.0])|\n",
      "|2015-02-28|  545123|           N|             ES|   V| 38|        0|       120|     1|          1|          I|      1|     0|          KFC|      0|      28|                    0|         239010.9|02 - PARTICULARES|                0|                0|               1|                0|               0|                0|                0|                0|                0|                0|                0|                0|                0|                0|               0|                0|                0|                0|                0|                0|               0|              0|                0|              0|        2|      (24,[2],[1.0])|\n",
      "|2015-02-28|  545110|           N|             ES|   V| 54|        0|       120|     1|          1|          A|      1|     0|          KAT|      0|      33|                    1|        101894.16|02 - PARTICULARES|                0|                0|               1|                0|               0|                0|                0|                0|                0|                0|                0|                0|                0|                0|               0|                0|                0|                0|                0|                0|               0|              0|                0|              0|        2|      (24,[2],[1.0])|\n",
      "|2015-02-28|  545163|           N|             ES|   V| 46|        0|       119|     1|          1|          I|      1|     0|          KAT|      0|      28|                    1|         311757.0|02 - PARTICULARES|                0|                0|               1|                0|               0|                0|                0|                0|                0|                0|                0|                0|                0|                0|               0|                0|                0|                0|                0|                0|               0|              0|                0|              0|        2|      (24,[2],[1.0])|\n",
      "|2015-02-28|  545148|           N|             ES|   H| 42|        0|       120|     1|          1|          A|      1|     0|          KFC|      0|      14|                    1|        155256.84|02 - PARTICULARES|                0|                0|               1|                0|               0|                0|                0|                0|                0|                0|                0|                0|                0|                0|               0|                0|                0|                0|                0|                0|               1|              0|                0|              0|        2|(24,[2,20],[1.0,1...|\n",
      "|2015-02-28|  545146|           N|             ES|   H| 51|        0|       120|     1|          1|          I|      1|     0|          KFC|      0|      28|                    1|        163046.79|02 - PARTICULARES|                0|                0|               1|                0|               0|                0|                0|                1|                0|                0|                0|                0|                0|                0|               0|                0|                0|                0|                0|                0|               0|              0|                0|              0|        2|(24,[2,7],[1.0,1.0])|\n",
      "|2015-02-28|  545130|           N|             ES|   V| 50|        0|        40|     1|          1|          I|      1|     0|          KAT|      0|      28|                    0|43560.60000000001|02 - PARTICULARES|                0|                0|               1|                0|               0|                0|                0|                0|                0|                0|                0|                0|                0|                0|               0|                0|                0|                0|                0|                0|               0|              0|                0|              0|        2|      (24,[2],[1.0])|\n",
      "+----------+--------+------------+---------------+----+---+---------+----------+------+-----------+-----------+-------+------+-------------+-------+--------+---------------------+-----------------+-----------------+-----------------+-----------------+----------------+-----------------+----------------+-----------------+-----------------+-----------------+-----------------+-----------------+-----------------+-----------------+-----------------+-----------------+----------------+-----------------+-----------------+-----------------+-----------------+-----------------+----------------+---------------+-----------------+---------------+---------+--------------------+\n",
      "only showing top 20 rows\n",
      "\n"
     ]
    }
   ],
   "source": [
    "from pyspark.ml.feature import VectorAssembler\n",
    "\n",
    "input_cols = [\n",
    "    'ind_ahor_fin_ult1',\n",
    "    'ind_aval_fin_ult1',\n",
    "    'ind_cco_fin_ult1',\n",
    "    'ind_cder_fin_ult1',\n",
    "    'ind_cno_fin_ult1',\n",
    "    'ind_ctju_fin_ult1',\n",
    "    'ind_ctma_fin_ult1',\n",
    "    'ind_ctop_fin_ult1',\n",
    "    'ind_ctpp_fin_ult1',\n",
    "    'ind_deco_fin_ult1',\n",
    "    'ind_deme_fin_ult1',\n",
    "    'ind_dela_fin_ult1',\n",
    "    'ind_ecue_fin_ult1',\n",
    "    'ind_fond_fin_ult1',\n",
    "    'ind_hip_fin_ult1',\n",
    "    'ind_plan_fin_ult1',\n",
    "    'ind_pres_fin_ult1',\n",
    "    'ind_reca_fin_ult1',\n",
    "    'ind_tjcr_fin_ult1',\n",
    "    'ind_valo_fin_ult1',\n",
    "    'ind_viv_fin_ult1',\n",
    "    'ind_nomina_ult1',\n",
    "    'ind_nom_pens_ult1',\n",
    "    'ind_recibo_ult1'\n",
    "]\n",
    "\n",
    "vecAssembler = VectorAssembler(inputCols=input_cols, outputCol=\"product_vec\")\n",
    "df = vecAssembler.transform(df)\n",
    "df.show()"
   ]
  },
  {
   "cell_type": "code",
   "execution_count": 8,
   "metadata": {},
   "outputs": [
    {
     "name": "stderr",
     "output_type": "stream",
     "text": [
      "25/02/18 14:28:02 WARN WindowExec: No Partition Defined for Window operation! Moving all data to a single partition, this can cause serious performance degradation.\n",
      "25/02/18 14:28:02 WARN WindowExec: No Partition Defined for Window operation! Moving all data to a single partition, this can cause serious performance degradation.\n",
      "25/02/18 14:28:20 WARN WindowExec: No Partition Defined for Window operation! Moving all data to a single partition, this can cause serious performance degradation.\n",
      "25/02/18 14:28:20 WARN WindowExec: No Partition Defined for Window operation! Moving all data to a single partition, this can cause serious performance degradation.\n",
      "25/02/18 14:28:20 WARN WindowExec: No Partition Defined for Window operation! Moving all data to a single partition, this can cause serious performance degradation.\n",
      "25/02/18 14:28:20 WARN WindowExec: No Partition Defined for Window operation! Moving all data to a single partition, this can cause serious performance degradation.\n",
      "                                                                                \r"
     ]
    },
    {
     "name": "stdout",
     "output_type": "stream",
     "text": [
      "+----------+--------+------------+---------------+----+---+---------+----------+------+-----------+-----------+-------+------+-------------+-------+--------+---------------------+-----------------+-----------------+---------+--------------------+\n",
      "|fecha_dato|ncodpers|ind_empleado|pais_residencia|sexo|age|ind_nuevo|antiguedad|indrel|indrel_1mes|tiprel_1mes|indresi|indext|canal_entrada|indfall|cod_prov|ind_actividad_cliente|            renta|         segmento|month_idx|         product_vec|\n",
      "+----------+--------+------------+---------------+----+---+---------+----------+------+-----------+-----------+-------+------+-------------+-------+--------+---------------------+-----------------+-----------------+---------+--------------------+\n",
      "|2015-02-28|  545090|           N|             ES|   V| 67|        0|       120|     1|          1|          I|      1|     0|          KAT|      0|       8|                    0|         96799.17|02 - PARTICULARES|        2|      (24,[2],[1.0])|\n",
      "|2015-02-28|  545106|           N|             ES|   H| 40|        0|       120|     1|          1|          A|      1|     0|          KAT|      0|       4|                    1|        109069.38|02 - PARTICULARES|        2|     (24,[18],[1.0])|\n",
      "|2015-02-28|  545103|           N|             ES|   V| 45|        0|       120|     1|          1|          I|      1|     0|          KFC|      0|      48|                    0|        101894.16|02 - PARTICULARES|        2|      (24,[2],[1.0])|\n",
      "|2015-02-28|  545102|           N|             ES|   V| 46|        0|       120|     1|          1|          I|      1|     0|          KAT|      0|      28|                    0|        197658.42|02 - PARTICULARES|        2|      (24,[2],[1.0])|\n",
      "|2015-02-28|  545101|           N|             ES|   V| 38|        0|       120|     1|          1|          A|      1|     0|          KFC|      0|       2|                    1|         39102.93|02 - PARTICULARES|        2|(24,[2,8],[1.0,1.0])|\n",
      "|2015-02-28|  545158|           N|             ES|   V| 47|        0|       108|     1|          1|          A|      1|     0|          KAT|      0|       3|                    1|        101894.16|02 - PARTICULARES|        2|(24,[2,16],[1.0,1...|\n",
      "|2015-02-28|  545100|           N|             ES|   V| 43|        0|       120|     1|          1|          A|      1|     0|          KFC|      0|       3|                    1|77505.56999999999|02 - PARTICULARES|        2|(24,[14,15,18,21,...|\n",
      "|2015-02-28|  545099|           N|             ES|   V| 45|        0|       120|     1|          1|          I|      1|     0|          KAT|      0|      28|                    1|         62736.12|02 - PARTICULARES|        2|      (24,[2],[1.0])|\n",
      "|2015-02-28|  545092|           N|             ES|   V| 66|        0|       120|     1|          1|          A|      1|     0|          KFC|      0|      28|                    1|        101894.16|02 - PARTICULARES|        2|(24,[2,11],[1.0,1...|\n",
      "|2015-02-28|  545091|           N|             ES|   V| 41|        0|       120|     1|          1|          A|      1|     0|          KFC|      0|      41|                    1|         81002.49|02 - PARTICULARES|        2|(24,[4,7,18,21,22...|\n",
      "|2015-02-28|  545098|           N|             ES|   V| 55|        0|       120|     1|          1|          A|      1|     0|          KAT|      0|       8|                    1|        140341.47|02 - PARTICULARES|        2|      (24,[2],[1.0])|\n",
      "|2015-02-28|  545086|           N|             ES|   V| 42|        0|       120|     1|          1|          A|      1|     0|          KFC|      0|      45|                    1|         73390.08|02 - PARTICULARES|        2|(24,[2,17,23],[1....|\n",
      "|2015-02-28|  545093|           N|             ES|   H| 68|        0|       117|     1|          1|          I|      1|     0|       Others|      0|      28|                    0|        124617.42|02 - PARTICULARES|        2|      (24,[2],[1.0])|\n",
      "|2015-02-28|  545107|           N|             ES|   H| 65|        0|       120|     1|          1|          I|      1|     0|       Others|      0|      28|                    0|        101894.16|02 - PARTICULARES|        2|      (24,[2],[1.0])|\n",
      "|2015-02-28|  545123|           N|             ES|   V| 38|        0|       120|     1|          1|          I|      1|     0|          KFC|      0|      28|                    0|         239010.9|02 - PARTICULARES|        2|      (24,[2],[1.0])|\n",
      "|2015-02-28|  545110|           N|             ES|   V| 54|        0|       120|     1|          1|          A|      1|     0|          KAT|      0|      33|                    1|        101894.16|02 - PARTICULARES|        2|      (24,[2],[1.0])|\n",
      "|2015-02-28|  545163|           N|             ES|   V| 46|        0|       119|     1|          1|          I|      1|     0|          KAT|      0|      28|                    1|         311757.0|02 - PARTICULARES|        2|      (24,[2],[1.0])|\n",
      "|2015-02-28|  545148|           N|             ES|   H| 42|        0|       120|     1|          1|          A|      1|     0|          KFC|      0|      14|                    1|        155256.84|02 - PARTICULARES|        2|(24,[2,20],[1.0,1...|\n",
      "|2015-02-28|  545146|           N|             ES|   H| 51|        0|       120|     1|          1|          I|      1|     0|          KFC|      0|      28|                    1|        163046.79|02 - PARTICULARES|        2|(24,[2,7],[1.0,1.0])|\n",
      "|2015-02-28|  545130|           N|             ES|   V| 50|        0|        40|     1|          1|          I|      1|     0|          KAT|      0|      28|                    0|43560.60000000001|02 - PARTICULARES|        2|      (24,[2],[1.0])|\n",
      "+----------+--------+------------+---------------+----+---+---------+----------+------+-----------+-----------+-------+------+-------------+-------+--------+---------------------+-----------------+-----------------+---------+--------------------+\n",
      "only showing top 20 rows\n",
      "\n"
     ]
    }
   ],
   "source": [
    "df = df.drop(*input_cols)\n",
    "df.show()"
   ]
  },
  {
   "cell_type": "markdown",
   "metadata": {},
   "source": [
    "## Other cols"
   ]
  },
  {
   "cell_type": "code",
   "execution_count": 11,
   "metadata": {},
   "outputs": [
    {
     "name": "stderr",
     "output_type": "stream",
     "text": [
      "25/02/18 14:33:12 WARN WindowExec: No Partition Defined for Window operation! Moving all data to a single partition, this can cause serious performance degradation.\n",
      "25/02/18 14:33:12 WARN WindowExec: No Partition Defined for Window operation! Moving all data to a single partition, this can cause serious performance degradation.\n",
      "25/02/18 14:33:27 WARN WindowExec: No Partition Defined for Window operation! Moving all data to a single partition, this can cause serious performance degradation.\n",
      "25/02/18 14:33:27 WARN WindowExec: No Partition Defined for Window operation! Moving all data to a single partition, this can cause serious performance degradation.\n",
      "25/02/18 14:33:27 WARN WindowExec: No Partition Defined for Window operation! Moving all data to a single partition, this can cause serious performance degradation.\n",
      "25/02/18 14:33:27 WARN WindowExec: No Partition Defined for Window operation! Moving all data to a single partition, this can cause serious performance degradation.\n",
      "                                                                                \r"
     ]
    },
    {
     "name": "stdout",
     "output_type": "stream",
     "text": [
      "+----------+--------+------------+---------------+----+---+---------+----------+------+-----------+-----------+-------+------+-------------+-------+--------+---------------------+-----------------+-----------------+---------+--------------------+--------+\n",
      "|fecha_dato|ncodpers|ind_empleado|pais_residencia|sexo|age|ind_nuevo|antiguedad|indrel|indrel_1mes|tiprel_1mes|indresi|indext|canal_entrada|indfall|cod_prov|ind_actividad_cliente|            renta|         segmento|month_idx|         product_vec|sexo_bin|\n",
      "+----------+--------+------------+---------------+----+---+---------+----------+------+-----------+-----------+-------+------+-------------+-------+--------+---------------------+-----------------+-----------------+---------+--------------------+--------+\n",
      "|2015-02-28|  545090|           N|             ES|   V| 67|        0|       120|     1|          1|          I|      1|     0|          KAT|      0|       8|                    0|         96799.17|02 - PARTICULARES|        2|      (24,[2],[1.0])|     0.0|\n",
      "|2015-02-28|  545106|           N|             ES|   H| 40|        0|       120|     1|          1|          A|      1|     0|          KAT|      0|       4|                    1|        109069.38|02 - PARTICULARES|        2|     (24,[18],[1.0])|     1.0|\n",
      "|2015-02-28|  545103|           N|             ES|   V| 45|        0|       120|     1|          1|          I|      1|     0|          KFC|      0|      48|                    0|        101894.16|02 - PARTICULARES|        2|      (24,[2],[1.0])|     0.0|\n",
      "|2015-02-28|  545102|           N|             ES|   V| 46|        0|       120|     1|          1|          I|      1|     0|          KAT|      0|      28|                    0|        197658.42|02 - PARTICULARES|        2|      (24,[2],[1.0])|     0.0|\n",
      "|2015-02-28|  545101|           N|             ES|   V| 38|        0|       120|     1|          1|          A|      1|     0|          KFC|      0|       2|                    1|         39102.93|02 - PARTICULARES|        2|(24,[2,8],[1.0,1.0])|     0.0|\n",
      "|2015-02-28|  545158|           N|             ES|   V| 47|        0|       108|     1|          1|          A|      1|     0|          KAT|      0|       3|                    1|        101894.16|02 - PARTICULARES|        2|(24,[2,16],[1.0,1...|     0.0|\n",
      "|2015-02-28|  545100|           N|             ES|   V| 43|        0|       120|     1|          1|          A|      1|     0|          KFC|      0|       3|                    1|77505.56999999999|02 - PARTICULARES|        2|(24,[14,15,18,21,...|     0.0|\n",
      "|2015-02-28|  545099|           N|             ES|   V| 45|        0|       120|     1|          1|          I|      1|     0|          KAT|      0|      28|                    1|         62736.12|02 - PARTICULARES|        2|      (24,[2],[1.0])|     0.0|\n",
      "|2015-02-28|  545092|           N|             ES|   V| 66|        0|       120|     1|          1|          A|      1|     0|          KFC|      0|      28|                    1|        101894.16|02 - PARTICULARES|        2|(24,[2,11],[1.0,1...|     0.0|\n",
      "|2015-02-28|  545091|           N|             ES|   V| 41|        0|       120|     1|          1|          A|      1|     0|          KFC|      0|      41|                    1|         81002.49|02 - PARTICULARES|        2|(24,[4,7,18,21,22...|     0.0|\n",
      "|2015-02-28|  545098|           N|             ES|   V| 55|        0|       120|     1|          1|          A|      1|     0|          KAT|      0|       8|                    1|        140341.47|02 - PARTICULARES|        2|      (24,[2],[1.0])|     0.0|\n",
      "|2015-02-28|  545086|           N|             ES|   V| 42|        0|       120|     1|          1|          A|      1|     0|          KFC|      0|      45|                    1|         73390.08|02 - PARTICULARES|        2|(24,[2,17,23],[1....|     0.0|\n",
      "|2015-02-28|  545093|           N|             ES|   H| 68|        0|       117|     1|          1|          I|      1|     0|       Others|      0|      28|                    0|        124617.42|02 - PARTICULARES|        2|      (24,[2],[1.0])|     1.0|\n",
      "|2015-02-28|  545107|           N|             ES|   H| 65|        0|       120|     1|          1|          I|      1|     0|       Others|      0|      28|                    0|        101894.16|02 - PARTICULARES|        2|      (24,[2],[1.0])|     1.0|\n",
      "|2015-02-28|  545123|           N|             ES|   V| 38|        0|       120|     1|          1|          I|      1|     0|          KFC|      0|      28|                    0|         239010.9|02 - PARTICULARES|        2|      (24,[2],[1.0])|     0.0|\n",
      "|2015-02-28|  545110|           N|             ES|   V| 54|        0|       120|     1|          1|          A|      1|     0|          KAT|      0|      33|                    1|        101894.16|02 - PARTICULARES|        2|      (24,[2],[1.0])|     0.0|\n",
      "|2015-02-28|  545163|           N|             ES|   V| 46|        0|       119|     1|          1|          I|      1|     0|          KAT|      0|      28|                    1|         311757.0|02 - PARTICULARES|        2|      (24,[2],[1.0])|     0.0|\n",
      "|2015-02-28|  545148|           N|             ES|   H| 42|        0|       120|     1|          1|          A|      1|     0|          KFC|      0|      14|                    1|        155256.84|02 - PARTICULARES|        2|(24,[2,20],[1.0,1...|     1.0|\n",
      "|2015-02-28|  545146|           N|             ES|   H| 51|        0|       120|     1|          1|          I|      1|     0|          KFC|      0|      28|                    1|        163046.79|02 - PARTICULARES|        2|(24,[2,7],[1.0,1.0])|     1.0|\n",
      "|2015-02-28|  545130|           N|             ES|   V| 50|        0|        40|     1|          1|          I|      1|     0|          KAT|      0|      28|                    0|43560.60000000001|02 - PARTICULARES|        2|      (24,[2],[1.0])|     0.0|\n",
      "+----------+--------+------------+---------------+----+---+---------+----------+------+-----------+-----------+-------+------+-------------+-------+--------+---------------------+-----------------+-----------------+---------+--------------------+--------+\n",
      "only showing top 20 rows\n",
      "\n"
     ]
    }
   ],
   "source": [
    "from pyspark.ml.feature import StringIndexer\n",
    "\n",
    "strIndexer = StringIndexer(inputCol=\"sexo\", outputCol=\"sexo_bin\")\n",
    "model = strIndexer.fit(df)\n",
    "df = model.transform(df)\n",
    "df.drop(\"sexo\")\n",
    "df.show()"
   ]
  },
  {
   "cell_type": "code",
   "execution_count": 15,
   "metadata": {},
   "outputs": [
    {
     "name": "stderr",
     "output_type": "stream",
     "text": [
      "25/02/18 14:49:29 WARN WindowExec: No Partition Defined for Window operation! Moving all data to a single partition, this can cause serious performance degradation.\n",
      "25/02/18 14:49:29 WARN WindowExec: No Partition Defined for Window operation! Moving all data to a single partition, this can cause serious performance degradation.\n",
      "25/02/18 14:49:45 WARN WindowExec: No Partition Defined for Window operation! Moving all data to a single partition, this can cause serious performance degradation.\n",
      "25/02/18 14:49:45 WARN WindowExec: No Partition Defined for Window operation! Moving all data to a single partition, this can cause serious performance degradation.\n",
      "25/02/18 14:49:45 WARN WindowExec: No Partition Defined for Window operation! Moving all data to a single partition, this can cause serious performance degradation.\n",
      "25/02/18 14:49:45 WARN WindowExec: No Partition Defined for Window operation! Moving all data to a single partition, this can cause serious performance degradation.\n",
      "                                                                                \r"
     ]
    },
    {
     "name": "stdout",
     "output_type": "stream",
     "text": [
      "+----------+--------+------------+---------------+----+---+---------+----------+------+-----------+-----------+-------+------+-------------+-------+--------+---------------------+------------------+-----------------+---------+--------------------+--------+\n",
      "|fecha_dato|ncodpers|ind_empleado|pais_residencia|sexo|age|ind_nuevo|antiguedad|indrel|indrel_1mes|tiprel_1mes|indresi|indext|canal_entrada|indfall|cod_prov|ind_actividad_cliente|             renta|         segmento|month_idx|         product_vec|sexo_bin|\n",
      "+----------+--------+------------+---------------+----+---+---------+----------+------+-----------+-----------+-------+------+-------------+-------+--------+---------------------+------------------+-----------------+---------+--------------------+--------+\n",
      "|2015-02-28|  545090|           N|             ES|   V| 67|        0|       120|     1|          1|          I|      1|     0|          KAT|      0|       8|                    0|11.480393698847744|02 - PARTICULARES|        2|      (24,[2],[1.0])|     0.0|\n",
      "|2015-02-28|  545106|           N|             ES|   H| 40|        0|       120|     1|          1|          A|      1|     0|          KAT|      0|       4|                    1|11.599739472483785|02 - PARTICULARES|        2|     (24,[18],[1.0])|     1.0|\n",
      "|2015-02-28|  545103|           N|             ES|   V| 45|        0|       120|     1|          1|          I|      1|     0|          KFC|      0|      48|                    0| 11.53168990647917|02 - PARTICULARES|        2|      (24,[2],[1.0])|     0.0|\n",
      "|2015-02-28|  545102|           N|             ES|   V| 46|        0|       120|     1|          1|          I|      1|     0|          KAT|      0|      28|                    0|12.194295668373993|02 - PARTICULARES|        2|      (24,[2],[1.0])|     0.0|\n",
      "|2015-02-28|  545101|           N|             ES|   V| 38|        0|       120|     1|          1|          A|      1|     0|          KFC|      0|       2|                    1|10.573952679227272|02 - PARTICULARES|        2|(24,[2,8],[1.0,1.0])|     0.0|\n",
      "|2015-02-28|  545158|           N|             ES|   V| 47|        0|       108|     1|          1|          A|      1|     0|          KAT|      0|       3|                    1| 11.53168990647917|02 - PARTICULARES|        2|(24,[2,16],[1.0,1...|     0.0|\n",
      "|2015-02-28|  545100|           N|             ES|   V| 43|        0|       120|     1|          1|          A|      1|     0|          KFC|      0|       3|                    1|11.258105083726585|02 - PARTICULARES|        2|(24,[14,15,18,21,...|     0.0|\n",
      "|2015-02-28|  545099|           N|             ES|   V| 45|        0|       120|     1|          1|          I|      1|     0|          KAT|      0|      28|                    1|11.046692637307636|02 - PARTICULARES|        2|      (24,[2],[1.0])|     0.0|\n",
      "|2015-02-28|  545092|           N|             ES|   V| 66|        0|       120|     1|          1|          A|      1|     0|          KFC|      0|      28|                    1| 11.53168990647917|02 - PARTICULARES|        2|(24,[2,11],[1.0,1...|     0.0|\n",
      "|2015-02-28|  545091|           N|             ES|   V| 41|        0|       120|     1|          1|          A|      1|     0|          KFC|      0|      41|                    1| 11.30223517392283|02 - PARTICULARES|        2|(24,[4,7,18,21,22...|     0.0|\n",
      "|2015-02-28|  545098|           N|             ES|   V| 55|        0|       120|     1|          1|          A|      1|     0|          KAT|      0|       8|                    1|  11.8518338033132|02 - PARTICULARES|        2|      (24,[2],[1.0])|     0.0|\n",
      "|2015-02-28|  545086|           N|             ES|   V| 42|        0|       120|     1|          1|          A|      1|     0|          KFC|      0|      45|                    1|11.203544055605281|02 - PARTICULARES|        2|(24,[2,17,23],[1....|     0.0|\n",
      "|2015-02-28|  545093|           N|             ES|   H| 68|        0|       117|     1|          1|          I|      1|     0|       Others|      0|      28|                    0|11.733003682946975|02 - PARTICULARES|        2|      (24,[2],[1.0])|     1.0|\n",
      "|2015-02-28|  545107|           N|             ES|   H| 65|        0|       120|     1|          1|          I|      1|     0|       Others|      0|      28|                    0| 11.53168990647917|02 - PARTICULARES|        2|      (24,[2],[1.0])|     1.0|\n",
      "|2015-02-28|  545123|           N|             ES|   V| 38|        0|       120|     1|          1|          I|      1|     0|          KFC|      0|      28|                    0|12.384264436568255|02 - PARTICULARES|        2|      (24,[2],[1.0])|     0.0|\n",
      "|2015-02-28|  545110|           N|             ES|   V| 54|        0|       120|     1|          1|          A|      1|     0|          KAT|      0|      33|                    1| 11.53168990647917|02 - PARTICULARES|        2|      (24,[2],[1.0])|     0.0|\n",
      "|2015-02-28|  545163|           N|             ES|   V| 46|        0|       119|     1|          1|          I|      1|     0|          KAT|      0|      28|                    1|12.649979317179533|02 - PARTICULARES|        2|      (24,[2],[1.0])|     0.0|\n",
      "|2015-02-28|  545148|           N|             ES|   H| 42|        0|       120|     1|          1|          A|      1|     0|          KFC|      0|      14|                    1|11.952836056796215|02 - PARTICULARES|        2|(24,[2,20],[1.0,1...|     1.0|\n",
      "|2015-02-28|  545146|           N|             ES|   H| 51|        0|       120|     1|          1|          I|      1|     0|          KFC|      0|      28|                    1|12.001792493811157|02 - PARTICULARES|        2|(24,[2,7],[1.0,1.0])|     1.0|\n",
      "|2015-02-28|  545130|           N|             ES|   V| 50|        0|        40|     1|          1|          I|      1|     0|          KAT|      0|      28|                    0|10.681908351056718|02 - PARTICULARES|        2|      (24,[2],[1.0])|     0.0|\n",
      "+----------+--------+------------+---------------+----+---+---------+----------+------+-----------+-----------+-------+------+-------------+-------+--------+---------------------+------------------+-----------------+---------+--------------------+--------+\n",
      "only showing top 20 rows\n",
      "\n"
     ]
    }
   ],
   "source": [
    "from pyspark.sql.functions import log\n",
    "\n",
    "# Apply log transformation\n",
    "df = df.withColumn(\"renta\", log(col(\"renta\")))\n",
    "df.show()"
   ]
  },
  {
   "cell_type": "code",
   "execution_count": 16,
   "metadata": {},
   "outputs": [
    {
     "name": "stderr",
     "output_type": "stream",
     "text": [
      "25/02/18 14:50:47 WARN WindowExec: No Partition Defined for Window operation! Moving all data to a single partition, this can cause serious performance degradation.\n",
      "25/02/18 14:50:47 WARN WindowExec: No Partition Defined for Window operation! Moving all data to a single partition, this can cause serious performance degradation.\n",
      "25/02/18 14:51:03 WARN WindowExec: No Partition Defined for Window operation! Moving all data to a single partition, this can cause serious performance degradation.\n",
      "25/02/18 14:51:03 WARN WindowExec: No Partition Defined for Window operation! Moving all data to a single partition, this can cause serious performance degradation.\n",
      "25/02/18 14:51:03 WARN WindowExec: No Partition Defined for Window operation! Moving all data to a single partition, this can cause serious performance degradation.\n",
      "25/02/18 14:51:03 WARN WindowExec: No Partition Defined for Window operation! Moving all data to a single partition, this can cause serious performance degradation.\n",
      "                                                                                \r"
     ]
    },
    {
     "name": "stdout",
     "output_type": "stream",
     "text": [
      "+----------+--------+------------+---------------+----+---+---------+----------+------+-----------+-----------+-------+------+-------------+-------+--------+---------------------+------------------+-----------------+---------+--------------------+--------+\n",
      "|fecha_dato|ncodpers|ind_empleado|pais_residencia|sexo|age|ind_nuevo|antiguedad|indrel|indrel_1mes|tiprel_1mes|indresi|indext|canal_entrada|indfall|cod_prov|ind_actividad_cliente|             renta|         segmento|month_idx|         product_vec|sexo_bin|\n",
      "+----------+--------+------------+---------------+----+---+---------+----------+------+-----------+-----------+-------+------+-------------+-------+--------+---------------------+------------------+-----------------+---------+--------------------+--------+\n",
      "|2015-02-28|  545008|           N|             ES|   V| 52|        0|       120|     1|          1|          A|      1|     0|          KAT|      0|      28|                    1|12.813395644105539|         01 - TOP|        2|(24,[2,11],[1.0,1...|     0.0|\n",
      "|2015-02-28|  545015|           N|             ES|   H| 47|        0|       120|     1|          1|          I|      1|     0|       Others|      0|      28|                    0|12.921362580798123|02 - PARTICULARES|        2|      (24,[2],[1.0])|     1.0|\n",
      "|2015-02-28|  545068|           N|             ES|   V| 61|        0|        73|     1|          1|          I|      1|     0|          KAT|      1|      28|                    0|  13.8613759348245|02 - PARTICULARES|        2|      (24,[8],[1.0])|     0.0|\n",
      "|2015-02-28|  545052|           N|             ES|   H| 30|        0|       120|     1|          1|          I|      1|     0|       Others|      0|      28|                    0|13.299660181244906|02 - PARTICULARES|        2|      (24,[2],[1.0])|     1.0|\n",
      "|2015-02-28|  545051|           N|             ES|   H| 32|        0|       120|     1|          1|          I|      1|     0|       Others|      0|      28|                    0|13.299660181244906|02 - PARTICULARES|        2|      (24,[2],[1.0])|     1.0|\n",
      "|2015-02-28|  545026|           N|             ES|   V| 48|        0|       119|     1|          1|          A|      1|     0|       Others|      0|      28|                    1|14.032495367099623|         01 - TOP|        2|(24,[2,7,12,23],[...|     0.0|\n",
      "|2015-02-28|  545022|           N|             ES|   H| 86|        0|       120|     1|          1|          A|      1|     0|       Others|      0|      28|                    1|12.758993500905952|         01 - TOP|        2|(24,[4,8,17,19,22...|     1.0|\n",
      "|2015-02-28|  545406|           N|             ES|   V| 64|        0|       119|     1|          1|          I|      1|     0|       Others|      0|      28|                    0|12.853977137183133|02 - PARTICULARES|        2|(24,[2,7],[1.0,1.0])|     0.0|\n",
      "|2015-02-28|  545245|           N|             ES|   V| 36|        0|       118|     1|          1|          I|      1|     0|          KAT|      0|      28|                    0|12.867142144634261|02 - PARTICULARES|        2|      (24,[2],[1.0])|     0.0|\n",
      "|2015-02-28|  544642|           N|             ES|   H| 47|        0|        79|     1|          1|          A|      1|     0|          KAT|      0|      28|                    1|13.443781350812468|02 - PARTICULARES|        2|      (24,[8],[1.0])|     1.0|\n",
      "|2015-02-28|  544621|           N|             ES|   V| 63|        0|       120|     1|          1|          A|      1|     0|       Others|      0|      28|                    1|12.867450559822084|02 - PARTICULARES|        2|      (24,[2],[1.0])|     0.0|\n",
      "|2015-02-28|  544628|           N|             ES|   H| 30|        0|       120|     1|          1|          I|      1|     0|       Others|      0|      28|                    0|12.793047314185886|02 - PARTICULARES|        2|      (24,[2],[1.0])|     1.0|\n",
      "|2015-02-28|  544897|           N|             ES|   V| 42|        0|       120|     1|          1|          A|      1|     0|          KFC|      0|      46|                    0| 9.706848386195206|02 - PARTICULARES|        2|          (24,[],[])|     0.0|\n",
      "|2015-02-28|  544939|           N|             ES|   H| 65|        0|       120|     1|          1|          I|      1|     0|       Others|      0|      28|                    0|13.206150677639537|02 - PARTICULARES|        2|      (24,[2],[1.0])|     1.0|\n",
      "|2015-02-28|  544927|           N|             ES|   H| 63|        0|        59|     1|          1|          A|      1|     0|          KAT|      0|      28|                    1|12.862908035914936|02 - PARTICULARES|        2|(24,[4,6,18,21,22...|     1.0|\n",
      "|2015-02-28|  544858|           N|             ES|   V| 52|        0|       120|     1|          1|          A|      1|     0|          KAT|      0|      28|                    1|10.217442451796515|02 - PARTICULARES|        2|      (24,[7],[1.0])|     0.0|\n",
      "|2015-02-28|  546139|           N|             ES|   H| 60|        0|       119|     1|          1|          I|      1|     0|          KFC|      0|       8|                    0|13.318463423343898|02 - PARTICULARES|        2|      (24,[2],[1.0])|     1.0|\n",
      "|2015-02-28|  546093|           N|             ES|   V| 68|        0|       119|     1|          1|          I|      1|     0|          KFC|      0|      28|                    0|13.093455193264917|02 - PARTICULARES|        2|(24,[2,7],[1.0,1.0])|     0.0|\n",
      "|2015-02-28|  546267|           N|             ES|   V| 51|        0|       119|     1|          1|          I|      1|     0|          KFC|      0|      30|                    0|10.192242424332855|02 - PARTICULARES|        2|      (24,[2],[1.0])|     0.0|\n",
      "|2015-02-28|  545668|           N|             ES|   V| 64|        0|       119|     1|          1|          I|      1|     0|          KFC|      0|      19|                    0|10.304776954505723|02 - PARTICULARES|        2|      (24,[2],[1.0])|     0.0|\n",
      "+----------+--------+------------+---------------+----+---+---------+----------+------+-----------+-----------+-------+------+-------------+-------+--------+---------------------+------------------+-----------------+---------+--------------------+--------+\n",
      "only showing top 20 rows\n",
      "\n"
     ]
    },
    {
     "name": "stderr",
     "output_type": "stream",
     "text": [
      "                                                                                \r"
     ]
    },
    {
     "data": {
      "text/plain": [
       "615349"
      ]
     },
     "execution_count": 16,
     "metadata": {},
     "output_type": "execute_result"
    }
   ],
   "source": [
    "from pyspark.sql.functions import percentile_approx\n",
    "from pyspark.sql.functions import col\n",
    "\n",
    "# Compute Q1 and Q3\n",
    "q1, q3 = df.approxQuantile(\"renta\", [0.25, 0.75], 0.0)\n",
    "iqr = q3 - q1\n",
    "lower_bound = q1 - 1.5 * iqr\n",
    "upper_bound = q3 + 1.5 * iqr\n",
    "\n",
    "# Filter outliers\n",
    "outliers = df.filter((col(\"renta\") < lower_bound) | (col(\"renta\") > upper_bound))\n",
    "outliers.show()\n",
    "outliers.count()\n"
   ]
  }
 ],
 "metadata": {
  "kernelspec": {
   "display_name": ".venv",
   "language": "python",
   "name": "python3"
  },
  "language_info": {
   "codemirror_mode": {
    "name": "ipython",
    "version": 3
   },
   "file_extension": ".py",
   "mimetype": "text/x-python",
   "name": "python",
   "nbconvert_exporter": "python",
   "pygments_lexer": "ipython3",
   "version": "3.11.2"
  }
 },
 "nbformat": 4,
 "nbformat_minor": 2
}
