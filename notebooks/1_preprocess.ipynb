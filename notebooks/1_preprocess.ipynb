{
 "cells": [
  {
   "cell_type": "markdown",
   "metadata": {},
   "source": [
    "# Preprocessing data"
   ]
  },
  {
   "cell_type": "code",
   "execution_count": 1,
   "metadata": {},
   "outputs": [
    {
     "name": "stderr",
     "output_type": "stream",
     "text": [
      "25/02/20 14:32:42 WARN Utils: Your hostname, m1nhd3n resolves to a loopback address: 127.0.1.1; using 192.168.1.158 instead (on interface wlp0s20f3)\n",
      "25/02/20 14:32:42 WARN Utils: Set SPARK_LOCAL_IP if you need to bind to another address\n",
      "Setting default log level to \"WARN\".\n",
      "To adjust logging level use sc.setLogLevel(newLevel). For SparkR, use setLogLevel(newLevel).\n",
      "25/02/20 14:32:42 WARN NativeCodeLoader: Unable to load native-hadoop library for your platform... using builtin-java classes where applicable\n",
      "                                                                                \r"
     ]
    }
   ],
   "source": [
    "from pyspark.sql import SparkSession\n",
    "\n",
    "spark = SparkSession.builder \\\n",
    "    .config(\"spark.driver.memory\", \"4g\") \\\n",
    "    .config(\"spark.executor.memory\", \"8g\") \\\n",
    "    .config(\"spark.executor.cores\", \"4\") \\\n",
    "    .appName(\"Product Recommendation\") \\\n",
    "    .getOrCreate()\n",
    "df = spark.read.csv(\"/home/m1nhd3n/Works/DataEngineer/product_recommendations/data/raw/data.csv\", header=True, inferSchema=True)\n"
   ]
  },
  {
   "cell_type": "markdown",
   "metadata": {},
   "source": [
    "## 1. Overview\n",
    "### 1.1. Schema"
   ]
  },
  {
   "cell_type": "code",
   "execution_count": 2,
   "metadata": {},
   "outputs": [
    {
     "name": "stdout",
     "output_type": "stream",
     "text": [
      "root\n",
      " |-- fecha_dato: date (nullable = true)\n",
      " |-- ncodpers: double (nullable = true)\n",
      " |-- ind_empleado: string (nullable = true)\n",
      " |-- pais_residencia: string (nullable = true)\n",
      " |-- sexo: string (nullable = true)\n",
      " |-- age: string (nullable = true)\n",
      " |-- fecha_alta: date (nullable = true)\n",
      " |-- ind_nuevo: string (nullable = true)\n",
      " |-- antiguedad: string (nullable = true)\n",
      " |-- indrel: string (nullable = true)\n",
      " |-- ult_fec_cli_1t: date (nullable = true)\n",
      " |-- indrel_1mes: string (nullable = true)\n",
      " |-- tiprel_1mes: string (nullable = true)\n",
      " |-- indresi: string (nullable = true)\n",
      " |-- indext: string (nullable = true)\n",
      " |-- conyuemp: string (nullable = true)\n",
      " |-- canal_entrada: string (nullable = true)\n",
      " |-- indfall: string (nullable = true)\n",
      " |-- tipodom: string (nullable = true)\n",
      " |-- cod_prov: string (nullable = true)\n",
      " |-- nomprov: string (nullable = true)\n",
      " |-- ind_actividad_cliente: string (nullable = true)\n",
      " |-- renta: double (nullable = true)\n",
      " |-- segmento: string (nullable = true)\n",
      " |-- ind_ahor_fin_ult1: integer (nullable = true)\n",
      " |-- ind_aval_fin_ult1: integer (nullable = true)\n",
      " |-- ind_cco_fin_ult1: integer (nullable = true)\n",
      " |-- ind_cder_fin_ult1: integer (nullable = true)\n",
      " |-- ind_cno_fin_ult1: integer (nullable = true)\n",
      " |-- ind_ctju_fin_ult1: integer (nullable = true)\n",
      " |-- ind_ctma_fin_ult1: integer (nullable = true)\n",
      " |-- ind_ctop_fin_ult1: integer (nullable = true)\n",
      " |-- ind_ctpp_fin_ult1: integer (nullable = true)\n",
      " |-- ind_deco_fin_ult1: integer (nullable = true)\n",
      " |-- ind_deme_fin_ult1: integer (nullable = true)\n",
      " |-- ind_dela_fin_ult1: integer (nullable = true)\n",
      " |-- ind_ecue_fin_ult1: integer (nullable = true)\n",
      " |-- ind_fond_fin_ult1: integer (nullable = true)\n",
      " |-- ind_hip_fin_ult1: integer (nullable = true)\n",
      " |-- ind_plan_fin_ult1: integer (nullable = true)\n",
      " |-- ind_pres_fin_ult1: integer (nullable = true)\n",
      " |-- ind_reca_fin_ult1: integer (nullable = true)\n",
      " |-- ind_tjcr_fin_ult1: integer (nullable = true)\n",
      " |-- ind_valo_fin_ult1: integer (nullable = true)\n",
      " |-- ind_viv_fin_ult1: integer (nullable = true)\n",
      " |-- ind_nomina_ult1: string (nullable = true)\n",
      " |-- ind_nom_pens_ult1: string (nullable = true)\n",
      " |-- ind_recibo_ult1: integer (nullable = true)\n",
      "\n"
     ]
    }
   ],
   "source": [
    "df.printSchema()"
   ]
  },
  {
   "cell_type": "markdown",
   "metadata": {},
   "source": [
    "### 1.2. EDA"
   ]
  },
  {
   "cell_type": "code",
   "execution_count": 3,
   "metadata": {},
   "outputs": [
    {
     "name": "stderr",
     "output_type": "stream",
     "text": [
      "                                                                                \r"
     ]
    },
    {
     "data": {
      "text/plain": [
       "13647309"
      ]
     },
     "execution_count": 3,
     "metadata": {},
     "output_type": "execute_result"
    }
   ],
   "source": [
    "df.count()"
   ]
  },
  {
   "cell_type": "markdown",
   "metadata": {},
   "source": [
    "Dataset contains monthly record of customers' behaviour and possessed products, from 28-02-2015 to 28-05-2016"
   ]
  },
  {
   "cell_type": "code",
   "execution_count": 4,
   "metadata": {},
   "outputs": [
    {
     "name": "stderr",
     "output_type": "stream",
     "text": [
      "[Stage 5:=========================================>               (13 + 5) / 18]\r"
     ]
    },
    {
     "name": "stdout",
     "output_type": "stream",
     "text": [
      "+----------+\n",
      "|fecha_dato|\n",
      "+----------+\n",
      "|2015-02-28|\n",
      "|2015-01-28|\n",
      "|2015-03-28|\n",
      "|2015-04-28|\n",
      "|2015-06-28|\n",
      "|2015-05-28|\n",
      "|2015-07-28|\n",
      "|2015-08-28|\n",
      "|2015-09-28|\n",
      "|2015-10-28|\n",
      "|2015-11-28|\n",
      "|2015-12-28|\n",
      "|2016-01-28|\n",
      "|2016-02-28|\n",
      "|2016-03-28|\n",
      "|2016-04-28|\n",
      "|2016-05-28|\n",
      "+----------+\n",
      "\n"
     ]
    },
    {
     "name": "stderr",
     "output_type": "stream",
     "text": [
      "                                                                                \r"
     ]
    }
   ],
   "source": [
    "df.select(\"fecha_dato\").distinct().show()"
   ]
  },
  {
   "cell_type": "code",
   "execution_count": 41,
   "metadata": {},
   "outputs": [
    {
     "name": "stderr",
     "output_type": "stream",
     "text": [
      "[Stage 54:===========================================>            (14 + 4) / 18]\r"
     ]
    },
    {
     "name": "stdout",
     "output_type": "stream",
     "text": [
      "Number of customers: 956645\n"
     ]
    },
    {
     "name": "stderr",
     "output_type": "stream",
     "text": [
      "                                                                                \r"
     ]
    }
   ],
   "source": [
    "print(f\"Number of customers: {df.select('ncodpers').distinct().count()}\")"
   ]
  },
  {
   "cell_type": "markdown",
   "metadata": {},
   "source": [
    "Age column contains null values."
   ]
  },
  {
   "cell_type": "code",
   "execution_count": 42,
   "metadata": {},
   "outputs": [
    {
     "name": "stderr",
     "output_type": "stream",
     "text": [
      "[Stage 60:========================================>               (13 + 5) / 18]\r"
     ]
    },
    {
     "name": "stdout",
     "output_type": "stream",
     "text": [
      "+----+\n",
      "|sexo|\n",
      "+----+\n",
      "|   V|\n",
      "|   H|\n",
      "|NULL|\n",
      "+----+\n",
      "\n"
     ]
    },
    {
     "name": "stderr",
     "output_type": "stream",
     "text": [
      "                                                                                \r"
     ]
    }
   ],
   "source": [
    "df.select(\"sexo\").distinct().show()"
   ]
  },
  {
   "cell_type": "markdown",
   "metadata": {},
   "source": [
    "Some columns contains NA values. We must transform these NA values into Null values."
   ]
  },
  {
   "cell_type": "code",
   "execution_count": null,
   "metadata": {},
   "outputs": [
    {
     "name": "stderr",
     "output_type": "stream",
     "text": [
      "[Stage 66:========================================>               (13 + 5) / 18]\r"
     ]
    },
    {
     "name": "stdout",
     "output_type": "stream",
     "text": [
      "+---------+\n",
      "|ind_nuevo|\n",
      "+---------+\n",
      "|       NA|\n",
      "|        1|\n",
      "|        0|\n",
      "+---------+\n",
      "\n"
     ]
    },
    {
     "name": "stderr",
     "output_type": "stream",
     "text": [
      "                                                                                \r"
     ]
    }
   ],
   "source": [
    "df.select(\"ind_nuevo\").distinct().show()"
   ]
  },
  {
   "cell_type": "code",
   "execution_count": 46,
   "metadata": {},
   "outputs": [
    {
     "name": "stderr",
     "output_type": "stream",
     "text": [
      "[Stage 72:========================================>               (13 + 5) / 18]\r"
     ]
    },
    {
     "name": "stdout",
     "output_type": "stream",
     "text": [
      "+------+\n",
      "|indrel|\n",
      "+------+\n",
      "|    NA|\n",
      "|    99|\n",
      "|     1|\n",
      "+------+\n",
      "\n"
     ]
    },
    {
     "name": "stderr",
     "output_type": "stream",
     "text": [
      "                                                                                \r"
     ]
    }
   ],
   "source": [
    "df.select(\"indrel\").distinct().show()"
   ]
  },
  {
   "cell_type": "code",
   "execution_count": 47,
   "metadata": {},
   "outputs": [
    {
     "name": "stderr",
     "output_type": "stream",
     "text": [
      "[Stage 75:========================================>               (13 + 5) / 18]\r"
     ]
    },
    {
     "name": "stdout",
     "output_type": "stream",
     "text": [
      "+-----------+\n",
      "|indrel_1mes|\n",
      "+-----------+\n",
      "|        1.0|\n",
      "|          3|\n",
      "|          1|\n",
      "|        3.0|\n",
      "|          2|\n",
      "|        4.0|\n",
      "|        2.0|\n",
      "|          P|\n",
      "|          4|\n",
      "|       NULL|\n",
      "+-----------+\n",
      "\n"
     ]
    },
    {
     "name": "stderr",
     "output_type": "stream",
     "text": [
      "                                                                                \r"
     ]
    }
   ],
   "source": [
    "df.select(\"indrel_1mes\").distinct().show()"
   ]
  },
  {
   "cell_type": "code",
   "execution_count": 48,
   "metadata": {},
   "outputs": [
    {
     "name": "stderr",
     "output_type": "stream",
     "text": [
      "[Stage 78:========================================>               (13 + 5) / 18]\r"
     ]
    },
    {
     "name": "stdout",
     "output_type": "stream",
     "text": [
      "+-----------+\n",
      "|tiprel_1mes|\n",
      "+-----------+\n",
      "|          A|\n",
      "|          I|\n",
      "|          P|\n",
      "|          R|\n",
      "|          N|\n",
      "|       NULL|\n",
      "+-----------+\n",
      "\n"
     ]
    },
    {
     "name": "stderr",
     "output_type": "stream",
     "text": [
      "                                                                                \r"
     ]
    }
   ],
   "source": [
    "df.select(\"tiprel_1mes\").distinct().show()"
   ]
  },
  {
   "cell_type": "code",
   "execution_count": 49,
   "metadata": {},
   "outputs": [
    {
     "name": "stderr",
     "output_type": "stream",
     "text": [
      "[Stage 81:========================================>               (13 + 5) / 18]\r"
     ]
    },
    {
     "name": "stdout",
     "output_type": "stream",
     "text": [
      "+-------+\n",
      "|indresi|\n",
      "+-------+\n",
      "|      N|\n",
      "|      S|\n",
      "|   NULL|\n",
      "+-------+\n",
      "\n"
     ]
    },
    {
     "name": "stderr",
     "output_type": "stream",
     "text": [
      "                                                                                \r"
     ]
    }
   ],
   "source": [
    "df.select(\"indresi\").distinct().show()"
   ]
  },
  {
   "cell_type": "code",
   "execution_count": 50,
   "metadata": {},
   "outputs": [
    {
     "name": "stderr",
     "output_type": "stream",
     "text": [
      "[Stage 84:========================================>               (13 + 5) / 18]\r"
     ]
    },
    {
     "name": "stdout",
     "output_type": "stream",
     "text": [
      "+------+\n",
      "|indext|\n",
      "+------+\n",
      "|     N|\n",
      "|     S|\n",
      "|  NULL|\n",
      "+------+\n",
      "\n"
     ]
    },
    {
     "name": "stderr",
     "output_type": "stream",
     "text": [
      "                                                                                \r"
     ]
    }
   ],
   "source": [
    "df.select(\"indext\").distinct().show()"
   ]
  },
  {
   "cell_type": "code",
   "execution_count": 52,
   "metadata": {},
   "outputs": [
    {
     "name": "stderr",
     "output_type": "stream",
     "text": [
      "[Stage 90:========================================>               (13 + 5) / 18]\r"
     ]
    },
    {
     "name": "stdout",
     "output_type": "stream",
     "text": [
      "+--------+\n",
      "|conyuemp|\n",
      "+--------+\n",
      "|       N|\n",
      "|       S|\n",
      "|    NULL|\n",
      "+--------+\n",
      "\n"
     ]
    },
    {
     "name": "stderr",
     "output_type": "stream",
     "text": [
      "                                                                                \r"
     ]
    }
   ],
   "source": [
    "df.select(\"conyuemp\").distinct().show()"
   ]
  },
  {
   "cell_type": "code",
   "execution_count": 53,
   "metadata": {},
   "outputs": [
    {
     "name": "stderr",
     "output_type": "stream",
     "text": [
      "                                                                                \r"
     ]
    },
    {
     "data": {
      "text/plain": [
       "163"
      ]
     },
     "execution_count": 53,
     "metadata": {},
     "output_type": "execute_result"
    }
   ],
   "source": [
    "df.select(\"canal_entrada\").distinct().count()"
   ]
  },
  {
   "cell_type": "code",
   "execution_count": 54,
   "metadata": {},
   "outputs": [
    {
     "name": "stderr",
     "output_type": "stream",
     "text": [
      "[Stage 99:========================================>               (13 + 5) / 18]\r"
     ]
    },
    {
     "name": "stdout",
     "output_type": "stream",
     "text": [
      "+---------------------+\n",
      "|ind_actividad_cliente|\n",
      "+---------------------+\n",
      "|                   NA|\n",
      "|                    1|\n",
      "|                    0|\n",
      "+---------------------+\n",
      "\n"
     ]
    },
    {
     "name": "stderr",
     "output_type": "stream",
     "text": [
      "                                                                                \r"
     ]
    }
   ],
   "source": [
    "df.select(\"ind_actividad_cliente\").distinct().show()"
   ]
  },
  {
   "cell_type": "code",
   "execution_count": 55,
   "metadata": {},
   "outputs": [
    {
     "name": "stderr",
     "output_type": "stream",
     "text": [
      "[Stage 102:=======================================>               (13 + 5) / 18]\r"
     ]
    },
    {
     "name": "stdout",
     "output_type": "stream",
     "text": [
      "+------------------+\n",
      "|          segmento|\n",
      "+------------------+\n",
      "|          01 - TOP|\n",
      "| 02 - PARTICULARES|\n",
      "|03 - UNIVERSITARIO|\n",
      "|              NULL|\n",
      "+------------------+\n",
      "\n"
     ]
    },
    {
     "name": "stderr",
     "output_type": "stream",
     "text": [
      "                                                                                \r"
     ]
    }
   ],
   "source": [
    "df.select(\"segmento\").distinct().show()"
   ]
  },
  {
   "cell_type": "markdown",
   "metadata": {},
   "source": [
    "### 1.3. Types Consistency\n",
    "\n",
    "For numerical columns, we can just cast them into numbers and then those NA values will automatically be null. For columns that is already contain null values instead of NA, we don't need to do anything at this step."
   ]
  },
  {
   "cell_type": "code",
   "execution_count": 56,
   "metadata": {},
   "outputs": [
    {
     "name": "stderr",
     "output_type": "stream",
     "text": [
      "                                                                                \r"
     ]
    },
    {
     "name": "stdout",
     "output_type": "stream",
     "text": [
      "+---------+\n",
      "|ind_nuevo|\n",
      "+---------+\n",
      "|        1|\n",
      "|        0|\n",
      "|     NULL|\n",
      "+---------+\n",
      "\n"
     ]
    },
    {
     "name": "stderr",
     "output_type": "stream",
     "text": [
      "                                                                                \r"
     ]
    },
    {
     "name": "stdout",
     "output_type": "stream",
     "text": [
      "+------+\n",
      "|indrel|\n",
      "+------+\n",
      "|     1|\n",
      "|    99|\n",
      "|  NULL|\n",
      "+------+\n",
      "\n"
     ]
    },
    {
     "name": "stderr",
     "output_type": "stream",
     "text": [
      "                                                                                \r"
     ]
    },
    {
     "name": "stdout",
     "output_type": "stream",
     "text": [
      "+---------------------+\n",
      "|ind_actividad_cliente|\n",
      "+---------------------+\n",
      "|                    1|\n",
      "|                    0|\n",
      "|                 NULL|\n",
      "+---------------------+\n",
      "\n"
     ]
    },
    {
     "name": "stderr",
     "output_type": "stream",
     "text": [
      "[Stage 114:=======================================>               (13 + 5) / 18]\r"
     ]
    },
    {
     "name": "stdout",
     "output_type": "stream",
     "text": [
      "+-----------+\n",
      "|indrel_1mes|\n",
      "+-----------+\n",
      "|          1|\n",
      "|          3|\n",
      "|          2|\n",
      "|          5|\n",
      "|          4|\n",
      "|       NULL|\n",
      "+-----------+\n",
      "\n"
     ]
    },
    {
     "name": "stderr",
     "output_type": "stream",
     "text": [
      "                                                                                \r"
     ]
    }
   ],
   "source": [
    "df = df.replace(\"P\", \"5\", subset=[\"indrel_1mes\"])\n",
    "\n",
    "df = df.withColumns({\n",
    "    \"age\": df.age.cast(\"int\"),\n",
    "    \"ind_nuevo\": df.ind_nuevo.cast(\"int\"),\n",
    "    \"indrel\": df.indrel.cast(\"int\"),\n",
    "    \"ind_actividad_cliente\": df.ind_actividad_cliente.cast(\"int\"),\n",
    "    \"antiguedad\": df.antiguedad.cast(\"int\"),\n",
    "    \"indrel_1mes\": df.indrel_1mes.cast(\"int\")\n",
    "})\n",
    "\n",
    "df.select(\"ind_nuevo\").distinct().show()\n",
    "df.select(\"indrel\").distinct().show()\n",
    "df.select(\"ind_actividad_cliente\").distinct().show()\n",
    "df.select(\"indrel_1mes\").distinct().show()"
   ]
  },
  {
   "cell_type": "code",
   "execution_count": 57,
   "metadata": {},
   "outputs": [
    {
     "name": "stderr",
     "output_type": "stream",
     "text": [
      "                                                                                \r"
     ]
    },
    {
     "name": "stdout",
     "output_type": "stream",
     "text": [
      "+---------------+\n",
      "|ind_nomina_ult1|\n",
      "+---------------+\n",
      "|              1|\n",
      "|              0|\n",
      "|           NULL|\n",
      "+---------------+\n",
      "\n"
     ]
    },
    {
     "name": "stderr",
     "output_type": "stream",
     "text": [
      "[Stage 120:=======================================>               (13 + 5) / 18]\r"
     ]
    },
    {
     "name": "stdout",
     "output_type": "stream",
     "text": [
      "+-----------------+\n",
      "|ind_nom_pens_ult1|\n",
      "+-----------------+\n",
      "|                1|\n",
      "|                0|\n",
      "|             NULL|\n",
      "+-----------------+\n",
      "\n"
     ]
    },
    {
     "name": "stderr",
     "output_type": "stream",
     "text": [
      "                                                                                \r"
     ]
    }
   ],
   "source": [
    "df = df.withColumns({\n",
    "    \"ind_nomina_ult1\": df.ind_nomina_ult1.cast(\"int\"),\n",
    "    \"ind_nom_pens_ult1\": df.ind_nom_pens_ult1.cast(\"int\")\n",
    "})\n",
    "df.select(\"ind_nomina_ult1\").distinct().show()\n",
    "df.select(\"ind_nom_pens_ult1\").distinct().show()"
   ]
  },
  {
   "cell_type": "markdown",
   "metadata": {},
   "source": [
    "Transform S/N into 0, 1"
   ]
  },
  {
   "cell_type": "code",
   "execution_count": 59,
   "metadata": {},
   "outputs": [
    {
     "name": "stderr",
     "output_type": "stream",
     "text": [
      "                                                                                \r"
     ]
    },
    {
     "name": "stdout",
     "output_type": "stream",
     "text": [
      "+-------+\n",
      "|indresi|\n",
      "+-------+\n",
      "|      0|\n",
      "|      1|\n",
      "|   NULL|\n",
      "+-------+\n",
      "\n"
     ]
    },
    {
     "name": "stderr",
     "output_type": "stream",
     "text": [
      "                                                                                \r"
     ]
    },
    {
     "name": "stdout",
     "output_type": "stream",
     "text": [
      "+------+\n",
      "|indext|\n",
      "+------+\n",
      "|     0|\n",
      "|     1|\n",
      "|  NULL|\n",
      "+------+\n",
      "\n"
     ]
    },
    {
     "name": "stderr",
     "output_type": "stream",
     "text": [
      "                                                                                \r"
     ]
    },
    {
     "name": "stdout",
     "output_type": "stream",
     "text": [
      "+--------+\n",
      "|conyuemp|\n",
      "+--------+\n",
      "|       0|\n",
      "|       1|\n",
      "|    NULL|\n",
      "+--------+\n",
      "\n"
     ]
    },
    {
     "name": "stderr",
     "output_type": "stream",
     "text": [
      "[Stage 132:=======================================>               (13 + 5) / 18]\r"
     ]
    },
    {
     "name": "stdout",
     "output_type": "stream",
     "text": [
      "+-------+\n",
      "|indfall|\n",
      "+-------+\n",
      "|      0|\n",
      "|      1|\n",
      "|   NULL|\n",
      "+-------+\n",
      "\n"
     ]
    },
    {
     "name": "stderr",
     "output_type": "stream",
     "text": [
      "                                                                                \r"
     ]
    }
   ],
   "source": [
    "sn_cols = ['indresi', 'indext', 'conyuemp', 'indfall']\n",
    "\n",
    "df = df.replace(\"N\", \"0\", subset=sn_cols)\n",
    "df = df.replace(\"S\", \"1\", subset=sn_cols)\n",
    "\n",
    "df.select(\"indresi\").distinct().show()\n",
    "df.select(\"indext\").distinct().show()\n",
    "df.select(\"conyuemp\").distinct().show()\n",
    "df.select(\"indfall\").distinct().show()"
   ]
  },
  {
   "cell_type": "code",
   "execution_count": 60,
   "metadata": {},
   "outputs": [],
   "source": [
    "df = df.withColumns({\n",
    "    \"indresi\": df.indresi.cast(\"int\"),\n",
    "    \"indext\": df.indext.cast(\"int\"),\n",
    "    \"conyuemp\": df.conyuemp.cast(\"int\"),\n",
    "    \"indfall\": df.indfall.cast(\"int\")\n",
    "})"
   ]
  },
  {
   "cell_type": "code",
   "execution_count": 64,
   "metadata": {},
   "outputs": [],
   "source": [
    "df = df.withColumn(\"ncodpers\", df.ncodpers.cast(\"int\"))"
   ]
  },
  {
   "cell_type": "code",
   "execution_count": 65,
   "metadata": {},
   "outputs": [
    {
     "name": "stdout",
     "output_type": "stream",
     "text": [
      "+----------+--------+------------+---------------+----+---+----------+---------+----------+------+--------------+-----------+-----------+-------+------+--------+-------------+-------+-------+--------+-----------+---------------------+------------------+------------------+-----------------+-----------------+----------------+-----------------+----------------+-----------------+-----------------+-----------------+-----------------+-----------------+-----------------+-----------------+-----------------+-----------------+----------------+-----------------+-----------------+-----------------+-----------------+-----------------+----------------+---------------+-----------------+---------------+\n",
      "|fecha_dato|ncodpers|ind_empleado|pais_residencia|sexo|age|fecha_alta|ind_nuevo|antiguedad|indrel|ult_fec_cli_1t|indrel_1mes|tiprel_1mes|indresi|indext|conyuemp|canal_entrada|indfall|tipodom|cod_prov|    nomprov|ind_actividad_cliente|             renta|          segmento|ind_ahor_fin_ult1|ind_aval_fin_ult1|ind_cco_fin_ult1|ind_cder_fin_ult1|ind_cno_fin_ult1|ind_ctju_fin_ult1|ind_ctma_fin_ult1|ind_ctop_fin_ult1|ind_ctpp_fin_ult1|ind_deco_fin_ult1|ind_deme_fin_ult1|ind_dela_fin_ult1|ind_ecue_fin_ult1|ind_fond_fin_ult1|ind_hip_fin_ult1|ind_plan_fin_ult1|ind_pres_fin_ult1|ind_reca_fin_ult1|ind_tjcr_fin_ult1|ind_valo_fin_ult1|ind_viv_fin_ult1|ind_nomina_ult1|ind_nom_pens_ult1|ind_recibo_ult1|\n",
      "+----------+--------+------------+---------------+----+---+----------+---------+----------+------+--------------+-----------+-----------+-------+------+--------+-------------+-------+-------+--------+-----------+---------------------+------------------+------------------+-----------------+-----------------+----------------+-----------------+----------------+-----------------+-----------------+-----------------+-----------------+-----------------+-----------------+-----------------+-----------------+-----------------+----------------+-----------------+-----------------+-----------------+-----------------+-----------------+----------------+---------------+-----------------+---------------+\n",
      "|2015-01-28| 1375586|           N|             ES|   H| 35|2015-01-12|        0|         6|     1|          NULL|          1|          A|      1|     0|    NULL|          KHL|      0|      1|      29|     MALAGA|                    1|           87218.1| 02 - PARTICULARES|                0|                0|               1|                0|               0|                0|                0|                0|                0|                0|                0|                0|                0|                0|               0|                0|                0|                0|                0|                0|               0|              0|                0|              0|\n",
      "|2015-01-28| 1050611|           N|             ES|   V| 23|2012-08-10|        0|        35|     1|          NULL|          1|          I|      1|     1|    NULL|          KHE|      0|      1|      13|CIUDAD REAL|                    0|          35548.74|03 - UNIVERSITARIO|                0|                0|               1|                0|               0|                0|                0|                0|                0|                0|                0|                0|                0|                0|               0|                0|                0|                0|                0|                0|               0|              0|                0|              0|\n",
      "|2015-01-28| 1050612|           N|             ES|   V| 23|2012-08-10|        0|        35|     1|          NULL|          1|          I|      1|     0|    NULL|          KHE|      0|      1|      13|CIUDAD REAL|                    0|122179.11000000002|03 - UNIVERSITARIO|                0|                0|               1|                0|               0|                0|                0|                0|                0|                0|                0|                0|                0|                0|               0|                0|                0|                0|                0|                0|               0|              0|                0|              0|\n",
      "|2015-01-28| 1050613|           N|             ES|   H| 22|2012-08-10|        0|        35|     1|          NULL|          1|          I|      1|     0|    NULL|          KHD|      0|      1|      50|   ZARAGOZA|                    0|         119775.54|03 - UNIVERSITARIO|                0|                0|               0|                0|               0|                0|                0|                0|                0|                1|                0|                0|                0|                0|               0|                0|                0|                0|                0|                0|               0|              0|                0|              0|\n",
      "|2015-01-28| 1050614|           N|             ES|   V| 23|2012-08-10|        0|        35|     1|          NULL|          1|          A|      1|     0|    NULL|          KHE|      0|      1|      50|   ZARAGOZA|                    1|              NULL|03 - UNIVERSITARIO|                0|                0|               1|                0|               0|                0|                0|                0|                0|                0|                0|                0|                0|                0|               0|                0|                0|                0|                0|                0|               0|              0|                0|              0|\n",
      "|2015-01-28| 1050615|           N|             ES|   H| 23|2012-08-10|        0|        35|     1|          NULL|          1|          I|      1|     0|    NULL|          KHE|      0|      1|      45|     TOLEDO|                    0|          22220.04|03 - UNIVERSITARIO|                0|                0|               1|                0|               0|                0|                0|                0|                0|                0|                0|                0|                0|                0|               0|                0|                0|                0|                0|                0|               0|              0|                0|              0|\n",
      "|2015-01-28| 1050616|           N|             ES|   H| 23|2012-08-10|        0|        35|     1|          NULL|          1|          I|      1|     0|    NULL|          KHE|      0|      1|      24|       LEON|                    0|         295590.36|03 - UNIVERSITARIO|                0|                0|               1|                0|               0|                0|                0|                0|                0|                0|                0|                0|                0|                0|               0|                0|                0|                0|                0|                0|               0|              0|                0|              0|\n",
      "|2015-01-28| 1050617|           N|             ES|   H| 23|2012-08-10|        0|        35|     1|          NULL|          1|          A|      1|     0|    NULL|          KHE|      0|      1|      50|   ZARAGOZA|                    1|         113316.66|03 - UNIVERSITARIO|                0|                0|               1|                0|               0|                0|                0|                0|                0|                0|                0|                0|                0|                0|               0|                0|                0|                0|                0|                0|               0|              0|                0|              0|\n",
      "|2015-01-28| 1050619|           N|             ES|   H| 24|2012-08-10|        0|        35|     1|          NULL|          1|          I|      1|     0|    NULL|          KHE|      0|      1|      20|   GIPUZKOA|                    0|              NULL|03 - UNIVERSITARIO|                0|                0|               1|                0|               0|                0|                0|                0|                0|                0|                0|                0|                0|                0|               0|                0|                0|                0|                0|                0|               0|              0|                0|              0|\n",
      "|2015-01-28| 1050620|           N|             ES|   H| 23|2012-08-10|        0|        35|     1|          NULL|          1|          I|      1|     0|    NULL|          KHE|      0|      1|      10|    CACERES|                    0|         113194.98|03 - UNIVERSITARIO|                0|                0|               1|                0|               0|                0|                0|                0|                0|                0|                0|                0|                0|                0|               0|                0|                0|                0|                0|                0|               0|              0|                0|              0|\n",
      "|2015-01-28| 1050621|           N|             ES|   V| 23|2012-08-10|        0|        35|     1|          NULL|          1|          I|      1|     0|    NULL|          KHE|      0|      1|      50|   ZARAGOZA|                    0|          72575.88|03 - UNIVERSITARIO|                0|                0|               1|                0|               0|                0|                0|                0|                0|                0|                0|                0|                0|                0|               0|                0|                0|                0|                0|                0|               0|              0|                0|              0|\n",
      "|2015-01-28| 1050622|           N|             ES|   H| 23|2012-08-10|        0|        35|     1|          NULL|          1|          I|      1|     0|    NULL|          KHE|      0|      1|      17|     GIRONA|                    0|              NULL|03 - UNIVERSITARIO|                0|                0|               1|                0|               0|                0|                0|                0|                0|                0|                0|                0|                0|                0|               0|                0|                0|                0|                0|                0|               0|              0|                0|              0|\n",
      "|2015-01-28| 1050623|           N|             ES|   H| 23|2012-08-10|        0|        35|     1|          NULL|          1|          A|      1|     0|    NULL|          KHE|      0|      1|      49|     ZAMORA|                    1|         113538.81|03 - UNIVERSITARIO|                0|                0|               1|                0|               0|                0|                0|                0|                0|                0|                0|                0|                0|                0|               0|                0|                0|                0|                0|                0|               0|              0|                0|              0|\n",
      "|2015-01-28| 1050624|           N|             ES|   H| 65|2012-08-10|        0|        35|     1|          NULL|          1|          A|      1|     0|    NULL|          KHE|      0|      1|      50|   ZARAGOZA|                    1|          61605.09| 02 - PARTICULARES|                0|                0|               1|                0|               0|                0|                0|                0|                0|                0|                0|                0|                0|                0|               0|                0|                0|                0|                0|                0|               0|              0|                0|              0|\n",
      "|2015-01-28| 1050625|           N|             ES|   V| 23|2012-08-10|        0|        35|     1|          NULL|          1|          A|      1|     0|    NULL|          KHE|      0|      1|      49|     ZAMORA|                    1|              NULL|03 - UNIVERSITARIO|                0|                0|               1|                0|               0|                0|                0|                0|                0|                0|                0|                0|                0|                0|               0|                0|                0|                0|                0|                0|               0|              0|                0|              0|\n",
      "|2015-01-28| 1050626|           N|             ES|   V| 23|2012-08-10|        0|        35|     1|          NULL|          1|          A|      1|     0|    NULL|          KHE|      0|      1|       8|  BARCELONA|                    1|              NULL|03 - UNIVERSITARIO|                0|                0|               1|                0|               0|                0|                0|                0|                0|                0|                0|                0|                0|                0|               0|                0|                0|                0|                0|                0|               0|              0|                0|              0|\n",
      "|2015-01-28| 1050610|           N|             ES|   V| 24|2012-08-10|        0|        35|     1|          NULL|          1|          I|      1|     0|    NULL|          KHE|      0|      1|      37|  SALAMANCA|                    1| 68318.45999999999|03 - UNIVERSITARIO|                0|                0|               1|                0|               0|                0|                0|                0|                0|                0|                0|                0|                0|                0|               0|                0|                0|                0|                0|                0|               0|              0|                0|              0|\n",
      "|2015-01-28| 1050627|           N|             ES|   H| 23|2012-08-10|        0|        35|     1|          NULL|          1|          I|      1|     0|    NULL|          KHE|      0|      1|      13|CIUDAD REAL|                    0|          65608.35|03 - UNIVERSITARIO|                0|                0|               1|                0|               0|                0|                0|                0|                0|                0|                0|                0|                0|                0|               0|                0|                0|                0|                0|                0|               0|              0|                0|              0|\n",
      "|2015-01-28| 1050609|           N|             ES|   H| 22|2012-08-10|        0|        35|     1|          NULL|          1|          I|      1|     0|    NULL|          KFA|      0|      1|      13|CIUDAD REAL|                    1|          73432.47|03 - UNIVERSITARIO|                0|                0|               1|                0|               0|                0|                0|                0|                0|                0|                0|                0|                0|                0|               0|                0|                0|                0|                0|                0|               0|              0|                0|              0|\n",
      "|2015-01-28| 1050605|           N|             ES|   V| 23|2012-08-10|        0|        35|     1|          NULL|          1|          I|      1|     0|    NULL|          KHE|      0|      1|      45|     TOLEDO|                    0|              NULL|03 - UNIVERSITARIO|                0|                0|               1|                0|               0|                0|                0|                0|                0|                0|                0|                0|                0|                0|               0|                0|                0|                0|                0|                0|               0|              0|                0|              0|\n",
      "+----------+--------+------------+---------------+----+---+----------+---------+----------+------+--------------+-----------+-----------+-------+------+--------+-------------+-------+-------+--------+-----------+---------------------+------------------+------------------+-----------------+-----------------+----------------+-----------------+----------------+-----------------+-----------------+-----------------+-----------------+-----------------+-----------------+-----------------+-----------------+-----------------+----------------+-----------------+-----------------+-----------------+-----------------+-----------------+----------------+---------------+-----------------+---------------+\n",
      "only showing top 20 rows\n",
      "\n"
     ]
    }
   ],
   "source": [
    "df.show()"
   ]
  },
  {
   "cell_type": "code",
   "execution_count": 82,
   "metadata": {},
   "outputs": [],
   "source": [
    "df = df.replace(\"NA\", None, subset=[\"tipodom\", \"cod_prov\"])"
   ]
  },
  {
   "cell_type": "markdown",
   "metadata": {},
   "source": [
    "### 1.3. Null Counts"
   ]
  },
  {
   "cell_type": "code",
   "execution_count": 83,
   "metadata": {},
   "outputs": [
    {
     "name": "stderr",
     "output_type": "stream",
     "text": [
      "[Stage 170:=======================================>               (13 + 5) / 18]\r"
     ]
    },
    {
     "name": "stdout",
     "output_type": "stream",
     "text": [
      "+----------+--------+------------+---------------+-----+-----+----------+---------+----------+------+--------------+-----------+-----------+-------+------+-------------+-------+-------+--------+-------+---------------------+-------+--------+-----------------+-----------------+----------------+-----------------+----------------+-----------------+-----------------+-----------------+-----------------+-----------------+-----------------+-----------------+-----------------+-----------------+----------------+-----------------+-----------------+-----------------+-----------------+-----------------+----------------+---------------+-----------------+---------------+\n",
      "|fecha_dato|ncodpers|ind_empleado|pais_residencia| sexo|  age|fecha_alta|ind_nuevo|antiguedad|indrel|ult_fec_cli_1t|indrel_1mes|tiprel_1mes|indresi|indext|canal_entrada|indfall|tipodom|cod_prov|nomprov|ind_actividad_cliente|  renta|segmento|ind_ahor_fin_ult1|ind_aval_fin_ult1|ind_cco_fin_ult1|ind_cder_fin_ult1|ind_cno_fin_ult1|ind_ctju_fin_ult1|ind_ctma_fin_ult1|ind_ctop_fin_ult1|ind_ctpp_fin_ult1|ind_deco_fin_ult1|ind_deme_fin_ult1|ind_dela_fin_ult1|ind_ecue_fin_ult1|ind_fond_fin_ult1|ind_hip_fin_ult1|ind_plan_fin_ult1|ind_pres_fin_ult1|ind_reca_fin_ult1|ind_tjcr_fin_ult1|ind_valo_fin_ult1|ind_viv_fin_ult1|ind_nomina_ult1|ind_nom_pens_ult1|ind_recibo_ult1|\n",
      "+----------+--------+------------+---------------+-----+-----+----------+---------+----------+------+--------------+-----------+-----------+-------+------+-------------+-------+-------+--------+-------+---------------------+-------+--------+-----------------+-----------------+----------------+-----------------+----------------+-----------------+-----------------+-----------------+-----------------+-----------------+-----------------+-----------------+-----------------+-----------------+----------------+-----------------+-----------------+-----------------+-----------------+-----------------+----------------+---------------+-----------------+---------------+\n",
      "|         0|       0|       27734|          27734|27804|27734|     27734|    27734|     27734| 27734|      13622516|     149781|     149781|  27734| 27734|       186126|  27734|  27735|   93591|  93591|                27734|2794375|  189368|                0|                0|               0|                0|               0|                0|                0|                0|                0|                0|                0|                0|                0|                0|               0|                0|                0|                0|                0|                0|               0|          16063|            16063|              0|\n",
      "+----------+--------+------------+---------------+-----+-----+----------+---------+----------+------+--------------+-----------+-----------+-------+------+-------------+-------+-------+--------+-------+---------------------+-------+--------+-----------------+-----------------+----------------+-----------------+----------------+-----------------+-----------------+-----------------+-----------------+-----------------+-----------------+-----------------+-----------------+-----------------+----------------+-----------------+-----------------+-----------------+-----------------+-----------------+----------------+---------------+-----------------+---------------+\n",
      "\n"
     ]
    },
    {
     "name": "stderr",
     "output_type": "stream",
     "text": [
      "                                                                                \r"
     ]
    }
   ],
   "source": [
    "from pyspark.sql.functions import col, sum\n",
    "\n",
    "df.select([sum(col(c).isNull().cast(\"int\")).alias(c) for c in df.columns]).show()"
   ]
  },
  {
   "cell_type": "markdown",
   "metadata": {},
   "source": [
    "It seems like many rows are broken, where all columns are null"
   ]
  },
  {
   "cell_type": "code",
   "execution_count": 84,
   "metadata": {},
   "outputs": [
    {
     "name": "stdout",
     "output_type": "stream",
     "text": [
      "+----------+--------+------------+---------------+----+----+----------+---------+----------+------+--------------+-----------+-----------+-------+------+-------------+-------+-------+--------+-------+---------------------+-----+--------+-----------------+-----------------+----------------+-----------------+----------------+-----------------+-----------------+-----------------+-----------------+-----------------+-----------------+-----------------+-----------------+-----------------+----------------+-----------------+-----------------+-----------------+-----------------+-----------------+----------------+---------------+-----------------+---------------+\n",
      "|fecha_dato|ncodpers|ind_empleado|pais_residencia|sexo| age|fecha_alta|ind_nuevo|antiguedad|indrel|ult_fec_cli_1t|indrel_1mes|tiprel_1mes|indresi|indext|canal_entrada|indfall|tipodom|cod_prov|nomprov|ind_actividad_cliente|renta|segmento|ind_ahor_fin_ult1|ind_aval_fin_ult1|ind_cco_fin_ult1|ind_cder_fin_ult1|ind_cno_fin_ult1|ind_ctju_fin_ult1|ind_ctma_fin_ult1|ind_ctop_fin_ult1|ind_ctpp_fin_ult1|ind_deco_fin_ult1|ind_deme_fin_ult1|ind_dela_fin_ult1|ind_ecue_fin_ult1|ind_fond_fin_ult1|ind_hip_fin_ult1|ind_plan_fin_ult1|ind_pres_fin_ult1|ind_reca_fin_ult1|ind_tjcr_fin_ult1|ind_valo_fin_ult1|ind_viv_fin_ult1|ind_nomina_ult1|ind_nom_pens_ult1|ind_recibo_ult1|\n",
      "+----------+--------+------------+---------------+----+----+----------+---------+----------+------+--------------+-----------+-----------+-------+------+-------------+-------+-------+--------+-------+---------------------+-----+--------+-----------------+-----------------+----------------+-----------------+----------------+-----------------+-----------------+-----------------+-----------------+-----------------+-----------------+-----------------+-----------------+-----------------+----------------+-----------------+-----------------+-----------------+-----------------+-----------------+----------------+---------------+-----------------+---------------+\n",
      "|2015-01-28| 1050741|        NULL|           NULL|NULL|NULL|      NULL|     NULL|      NULL|  NULL|          NULL|       NULL|       NULL|   NULL|  NULL|         NULL|   NULL|   NULL|    NULL|   NULL|                 NULL| NULL|    NULL|                0|                0|               1|                0|               0|                0|                0|                0|                0|                0|                0|                0|                0|                0|               0|                0|                0|                0|                0|                0|               0|              0|                0|              0|\n",
      "|2015-01-28| 1051017|        NULL|           NULL|NULL|NULL|      NULL|     NULL|      NULL|  NULL|          NULL|       NULL|       NULL|   NULL|  NULL|         NULL|   NULL|   NULL|    NULL|   NULL|                 NULL| NULL|    NULL|                0|                0|               1|                0|               0|                0|                0|                0|                0|                0|                0|                0|                0|                0|               0|                0|                0|                0|                0|                0|               0|              0|                0|              0|\n",
      "|2015-01-28| 1051064|        NULL|           NULL|NULL|NULL|      NULL|     NULL|      NULL|  NULL|          NULL|       NULL|       NULL|   NULL|  NULL|         NULL|   NULL|   NULL|    NULL|   NULL|                 NULL| NULL|    NULL|                0|                0|               1|                0|               0|                0|                0|                0|                0|                0|                0|                0|                0|                0|               0|                0|                0|                0|                0|                0|               0|              0|                0|              0|\n",
      "|2015-01-28| 1051387|        NULL|           NULL|NULL|NULL|      NULL|     NULL|      NULL|  NULL|          NULL|       NULL|       NULL|   NULL|  NULL|         NULL|   NULL|   NULL|    NULL|   NULL|                 NULL| NULL|    NULL|                0|                0|               1|                0|               0|                0|                0|                0|                0|                0|                0|                0|                0|                0|               0|                0|                0|                0|                0|                0|               0|              0|                0|              0|\n",
      "|2015-01-28| 1048660|        NULL|           NULL|NULL|NULL|      NULL|     NULL|      NULL|  NULL|          NULL|       NULL|       NULL|   NULL|  NULL|         NULL|   NULL|   NULL|    NULL|   NULL|                 NULL| NULL|    NULL|                0|                0|               1|                0|               0|                0|                0|                0|                0|                0|                0|                0|                0|                0|               0|                0|                0|                0|                0|                0|               0|              0|                0|              0|\n",
      "|2015-01-28| 1049775|        NULL|           NULL|NULL|NULL|      NULL|     NULL|      NULL|  NULL|          NULL|       NULL|       NULL|   NULL|  NULL|         NULL|   NULL|   NULL|    NULL|   NULL|                 NULL| NULL|    NULL|                0|                0|               0|                0|               0|                0|                0|                0|                0|                0|                0|                0|                0|                0|               0|                0|                0|                0|                0|                0|               0|              0|                0|              1|\n",
      "|2015-01-28| 1049774|        NULL|           NULL|NULL|NULL|      NULL|     NULL|      NULL|  NULL|          NULL|       NULL|       NULL|   NULL|  NULL|         NULL|   NULL|   NULL|    NULL|   NULL|                 NULL| NULL|    NULL|                0|                0|               0|                0|               0|                0|                0|                0|                0|                0|                0|                0|                0|                0|               0|                0|                0|                0|                0|                0|               0|              0|                0|              0|\n",
      "|2015-01-28| 1049838|        NULL|           NULL|NULL|NULL|      NULL|     NULL|      NULL|  NULL|          NULL|       NULL|       NULL|   NULL|  NULL|         NULL|   NULL|   NULL|    NULL|   NULL|                 NULL| NULL|    NULL|                0|                0|               1|                0|               0|                0|                0|                0|                0|                0|                0|                0|                0|                0|               0|                0|                0|                0|                0|                0|               0|              0|                0|              0|\n",
      "|2015-01-28| 1049700|        NULL|           NULL|NULL|NULL|      NULL|     NULL|      NULL|  NULL|          NULL|       NULL|       NULL|   NULL|  NULL|         NULL|   NULL|   NULL|    NULL|   NULL|                 NULL| NULL|    NULL|                0|                0|               0|                0|               0|                0|                0|                0|                0|                0|                0|                0|                0|                0|               0|                0|                0|                0|                0|                0|               0|           NULL|             NULL|              0|\n",
      "|2015-01-28| 1049406|        NULL|           NULL|NULL|NULL|      NULL|     NULL|      NULL|  NULL|          NULL|       NULL|       NULL|   NULL|  NULL|         NULL|   NULL|   NULL|    NULL|   NULL|                 NULL| NULL|    NULL|                0|                0|               0|                0|               0|                1|                0|                0|                0|                0|                0|                0|                0|                0|               0|                0|                0|                0|                0|                0|               0|              0|                0|              0|\n",
      "|2015-01-28| 1049560|        NULL|           NULL|NULL|NULL|      NULL|     NULL|      NULL|  NULL|          NULL|       NULL|       NULL|   NULL|  NULL|         NULL|   NULL|   NULL|    NULL|   NULL|                 NULL| NULL|    NULL|                0|                0|               0|                0|               0|                0|                0|                0|                0|                0|                0|                0|                0|                0|               0|                0|                0|                0|                0|                0|               0|              0|                0|              0|\n",
      "|2015-01-28| 1056017|        NULL|           NULL|NULL|NULL|      NULL|     NULL|      NULL|  NULL|          NULL|       NULL|       NULL|   NULL|  NULL|         NULL|   NULL|   NULL|    NULL|   NULL|                 NULL| NULL|    NULL|                0|                0|               1|                0|               0|                0|                0|                0|                0|                0|                0|                0|                0|                0|               0|                0|                0|                0|                0|                0|               0|              0|                0|              0|\n",
      "|2015-01-28| 1055504|        NULL|           NULL|NULL|NULL|      NULL|     NULL|      NULL|  NULL|          NULL|       NULL|       NULL|   NULL|  NULL|         NULL|   NULL|   NULL|    NULL|   NULL|                 NULL| NULL|    NULL|                0|                0|               0|                0|               0|                0|                0|                0|                0|                0|                0|                0|                0|                0|               0|                0|                0|                0|                0|                0|               0|           NULL|             NULL|              0|\n",
      "|2015-01-28| 1057040|        NULL|           NULL|NULL|NULL|      NULL|     NULL|      NULL|  NULL|          NULL|       NULL|       NULL|   NULL|  NULL|         NULL|   NULL|   NULL|    NULL|   NULL|                 NULL| NULL|    NULL|                0|                0|               1|                0|               0|                0|                0|                0|                0|                0|                0|                0|                0|                0|               0|                0|                0|                0|                0|                0|               0|              0|                0|              0|\n",
      "|2015-01-28| 1056554|        NULL|           NULL|NULL|NULL|      NULL|     NULL|      NULL|  NULL|          NULL|       NULL|       NULL|   NULL|  NULL|         NULL|   NULL|   NULL|    NULL|   NULL|                 NULL| NULL|    NULL|                0|                0|               0|                0|               1|                0|                0|                0|                0|                0|                0|                0|                0|                0|               0|                0|                0|                0|                1|                0|               0|              0|                0|              1|\n",
      "|2015-01-28| 1056525|        NULL|           NULL|NULL|NULL|      NULL|     NULL|      NULL|  NULL|          NULL|       NULL|       NULL|   NULL|  NULL|         NULL|   NULL|   NULL|    NULL|   NULL|                 NULL| NULL|    NULL|                0|                0|               1|                0|               0|                0|                0|                0|                0|                0|                0|                0|                1|                0|               0|                0|                0|                0|                0|                0|               0|              0|                0|              0|\n",
      "|2015-01-28| 1056756|        NULL|           NULL|NULL|NULL|      NULL|     NULL|      NULL|  NULL|          NULL|       NULL|       NULL|   NULL|  NULL|         NULL|   NULL|   NULL|    NULL|   NULL|                 NULL| NULL|    NULL|                0|                0|               1|                0|               0|                0|                0|                0|                0|                0|                0|                0|                0|                0|               0|                0|                0|                0|                0|                0|               0|              0|                0|              0|\n",
      "|2015-01-28| 1056643|        NULL|           NULL|NULL|NULL|      NULL|     NULL|      NULL|  NULL|          NULL|       NULL|       NULL|   NULL|  NULL|         NULL|   NULL|   NULL|    NULL|   NULL|                 NULL| NULL|    NULL|                0|                0|               0|                0|               0|                0|                1|                0|                0|                0|                0|                0|                0|                0|               0|                0|                0|                0|                0|                0|               0|              0|                0|              0|\n",
      "|2015-01-28| 1052877|        NULL|           NULL|NULL|NULL|      NULL|     NULL|      NULL|  NULL|          NULL|       NULL|       NULL|   NULL|  NULL|         NULL|   NULL|   NULL|    NULL|   NULL|                 NULL| NULL|    NULL|                0|                0|               1|                0|               0|                0|                0|                0|                0|                0|                0|                0|                0|                0|               0|                0|                0|                0|                0|                0|               0|              0|                0|              0|\n",
      "|2015-01-28| 1052940|        NULL|           NULL|NULL|NULL|      NULL|     NULL|      NULL|  NULL|          NULL|       NULL|       NULL|   NULL|  NULL|         NULL|   NULL|   NULL|    NULL|   NULL|                 NULL| NULL|    NULL|                0|                0|               1|                0|               0|                0|                0|                0|                0|                0|                0|                0|                0|                0|               0|                0|                0|                1|                0|                0|               0|              0|                0|              0|\n",
      "+----------+--------+------------+---------------+----+----+----------+---------+----------+------+--------------+-----------+-----------+-------+------+-------------+-------+-------+--------+-------+---------------------+-----+--------+-----------------+-----------------+----------------+-----------------+----------------+-----------------+-----------------+-----------------+-----------------+-----------------+-----------------+-----------------+-----------------+-----------------+----------------+-----------------+-----------------+-----------------+-----------------+-----------------+----------------+---------------+-----------------+---------------+\n",
      "only showing top 20 rows\n",
      "\n"
     ]
    }
   ],
   "source": [
    "df.select(\"*\").where(df.age.isNull()).show()"
   ]
  },
  {
   "cell_type": "code",
   "execution_count": 85,
   "metadata": {},
   "outputs": [
    {
     "name": "stderr",
     "output_type": "stream",
     "text": [
      "                                                                                \r"
     ]
    },
    {
     "data": {
      "text/plain": [
       "27734"
      ]
     },
     "execution_count": 85,
     "metadata": {},
     "output_type": "execute_result"
    }
   ],
   "source": [
    "from pyspark.sql import functions as F\n",
    "\n",
    "possible_all_nulls_col = [\n",
    "    'ind_empleado',\n",
    "    'pais_residencia',\n",
    "    'sexo',\n",
    "    'age',\n",
    "    'fecha_alta',\n",
    "    'ind_nuevo',\n",
    "    'antiguedad',\n",
    "    'indrel',\n",
    "    'ult_fec_cli_1t',\n",
    "    'indrel_1mes',\n",
    "    'tiprel_1mes',\n",
    "    'indresi',\n",
    "    'indext',\n",
    "    'canal_entrada',\n",
    "    'indfall',\n",
    "    'tipodom',\n",
    "    'cod_prov',\n",
    "    'nomprov',\n",
    "    'ind_actividad_cliente',\n",
    "    'renta',\n",
    "    'segmento'\n",
    "]\n",
    "test_df = df\n",
    "for c in possible_all_nulls_col:\n",
    "    test_df = test_df.select(\"*\").where(F.col(c).isNull())\n",
    "\n",
    "test_df.count()"
   ]
  },
  {
   "cell_type": "code",
   "execution_count": 88,
   "metadata": {},
   "outputs": [],
   "source": [
    "null_age_df = df.select(\"*\").where(df.age.isNull())"
   ]
  },
  {
   "cell_type": "code",
   "execution_count": 89,
   "metadata": {},
   "outputs": [
    {
     "name": "stderr",
     "output_type": "stream",
     "text": [
      "                                                                                \r"
     ]
    },
    {
     "data": {
      "text/plain": [
       "27734"
      ]
     },
     "execution_count": 89,
     "metadata": {},
     "output_type": "execute_result"
    }
   ],
   "source": [
    "test_df = null_age_df\n",
    "for c in possible_all_nulls_col:\n",
    "    test_df = test_df.select(\"*\").where(F.col(c).isNull())\n",
    "\n",
    "test_df.count()"
   ]
  },
  {
   "cell_type": "markdown",
   "metadata": {},
   "source": [
    "It seems like all the rows with null age are broken. We will simply remove these rows."
   ]
  },
  {
   "cell_type": "code",
   "execution_count": 90,
   "metadata": {},
   "outputs": [],
   "source": [
    "df = df.select(\"*\").where(df.age.isNotNull())"
   ]
  },
  {
   "cell_type": "code",
   "execution_count": 91,
   "metadata": {},
   "outputs": [
    {
     "name": "stderr",
     "output_type": "stream",
     "text": [
      "                                                                                \r"
     ]
    },
    {
     "name": "stdout",
     "output_type": "stream",
     "text": [
      "+----------+--------+------------+---------------+----+---+----------+---------+----------+------+--------------+-----------+-----------+-------+------+-------------+-------+-------+--------+-------+---------------------+-------+--------+-----------------+-----------------+----------------+-----------------+----------------+-----------------+-----------------+-----------------+-----------------+-----------------+-----------------+-----------------+-----------------+-----------------+----------------+-----------------+-----------------+-----------------+-----------------+-----------------+----------------+---------------+-----------------+---------------+\n",
      "|fecha_dato|ncodpers|ind_empleado|pais_residencia|sexo|age|fecha_alta|ind_nuevo|antiguedad|indrel|ult_fec_cli_1t|indrel_1mes|tiprel_1mes|indresi|indext|canal_entrada|indfall|tipodom|cod_prov|nomprov|ind_actividad_cliente|  renta|segmento|ind_ahor_fin_ult1|ind_aval_fin_ult1|ind_cco_fin_ult1|ind_cder_fin_ult1|ind_cno_fin_ult1|ind_ctju_fin_ult1|ind_ctma_fin_ult1|ind_ctop_fin_ult1|ind_ctpp_fin_ult1|ind_deco_fin_ult1|ind_deme_fin_ult1|ind_dela_fin_ult1|ind_ecue_fin_ult1|ind_fond_fin_ult1|ind_hip_fin_ult1|ind_plan_fin_ult1|ind_pres_fin_ult1|ind_reca_fin_ult1|ind_tjcr_fin_ult1|ind_valo_fin_ult1|ind_viv_fin_ult1|ind_nomina_ult1|ind_nom_pens_ult1|ind_recibo_ult1|\n",
      "+----------+--------+------------+---------------+----+---+----------+---------+----------+------+--------------+-----------+-----------+-------+------+-------------+-------+-------+--------+-------+---------------------+-------+--------+-----------------+-----------------+----------------+-----------------+----------------+-----------------+-----------------+-----------------+-----------------+-----------------+-----------------+-----------------+-----------------+-----------------+----------------+-----------------+-----------------+-----------------+-----------------+-----------------+----------------+---------------+-----------------+---------------+\n",
      "|         0|       0|           0|              0|  70|  0|         0|        0|         0|     0|      13594782|     122047|     122047|      0|     0|       158392|      0|      1|   65857|  65857|                    0|2766641|  161634|                0|                0|               0|                0|               0|                0|                0|                0|                0|                0|                0|                0|                0|                0|               0|                0|                0|                0|                0|                0|               0|            217|              217|              0|\n",
      "+----------+--------+------------+---------------+----+---+----------+---------+----------+------+--------------+-----------+-----------+-------+------+-------------+-------+-------+--------+-------+---------------------+-------+--------+-----------------+-----------------+----------------+-----------------+----------------+-----------------+-----------------+-----------------+-----------------+-----------------+-----------------+-----------------+-----------------+-----------------+----------------+-----------------+-----------------+-----------------+-----------------+-----------------+----------------+---------------+-----------------+---------------+\n",
      "\n"
     ]
    }
   ],
   "source": [
    "df.select([sum(col(c).isNull().cast(\"int\")).alias(c) for c in df.columns]).show()"
   ]
  },
  {
   "cell_type": "markdown",
   "metadata": {},
   "source": [
    "Notice `conyuemp` and `ult_fec_cli_1t` has so many null values. `conyuemp` field seem broken so we should drop this column"
   ]
  },
  {
   "cell_type": "code",
   "execution_count": 68,
   "metadata": {},
   "outputs": [
    {
     "name": "stderr",
     "output_type": "stream",
     "text": [
      "[Stage 141:=======================================>               (13 + 5) / 18]\r"
     ]
    },
    {
     "name": "stdout",
     "output_type": "stream",
     "text": [
      "+--------+--------+\n",
      "|conyuemp|   count|\n",
      "+--------+--------+\n",
      "|    NULL|13645501|\n",
      "|       1|      17|\n",
      "|       0|    1791|\n",
      "+--------+--------+\n",
      "\n"
     ]
    },
    {
     "name": "stderr",
     "output_type": "stream",
     "text": [
      "                                                                                \r"
     ]
    }
   ],
   "source": [
    "df.select(\"*\").groupBy(df.conyuemp).count().show()"
   ]
  },
  {
   "cell_type": "code",
   "execution_count": 69,
   "metadata": {},
   "outputs": [],
   "source": [
    "df = df.drop(\"conyuemp\")"
   ]
  },
  {
   "cell_type": "markdown",
   "metadata": {},
   "source": [
    "Based on the description of the dataset, it seems like `indrel` and `ult_fec_cli_1t` has some kind of relationship:\n",
    "- If `ult_fec_cli_1t` is Null then `indrel` is 1.\n",
    "- If `ult_fec_cli_1t` is not Null then `indrel` is 99."
   ]
  },
  {
   "cell_type": "code",
   "execution_count": 92,
   "metadata": {},
   "outputs": [
    {
     "name": "stderr",
     "output_type": "stream",
     "text": [
      "                                                                                \r"
     ]
    },
    {
     "data": {
      "text/plain": [
       "13594782"
      ]
     },
     "execution_count": 92,
     "metadata": {},
     "output_type": "execute_result"
    }
   ],
   "source": [
    "df.select(\"indrel\", \"ult_fec_cli_1t\").where(df.ult_fec_cli_1t.isNull()).where(df.indrel == 1).count()"
   ]
  },
  {
   "cell_type": "code",
   "execution_count": 93,
   "metadata": {},
   "outputs": [
    {
     "name": "stderr",
     "output_type": "stream",
     "text": [
      "                                                                                \r"
     ]
    },
    {
     "data": {
      "text/plain": [
       "24793"
      ]
     },
     "execution_count": 93,
     "metadata": {},
     "output_type": "execute_result"
    }
   ],
   "source": [
    "df.select(\"indrel\", \"ult_fec_cli_1t\").where(df.ult_fec_cli_1t.isNotNull()).where(df.indrel == 99).count()"
   ]
  },
  {
   "cell_type": "code",
   "execution_count": 94,
   "metadata": {},
   "outputs": [
    {
     "name": "stderr",
     "output_type": "stream",
     "text": [
      "                                                                                \r"
     ]
    },
    {
     "data": {
      "text/plain": [
       "0"
      ]
     },
     "execution_count": 94,
     "metadata": {},
     "output_type": "execute_result"
    }
   ],
   "source": [
    "df.count() - (13594782 + 24793)"
   ]
  },
  {
   "cell_type": "markdown",
   "metadata": {},
   "source": [
    "The information in column `ult_fec_cli_1t` is being represent by `indrel` so we can drop this column also."
   ]
  },
  {
   "cell_type": "code",
   "execution_count": 95,
   "metadata": {},
   "outputs": [],
   "source": [
    "df = df.drop(\"ult_fec_cli_1t\")"
   ]
  },
  {
   "cell_type": "code",
   "execution_count": 96,
   "metadata": {},
   "outputs": [
    {
     "name": "stderr",
     "output_type": "stream",
     "text": [
      "[Stage 195:=======================================>               (13 + 5) / 18]\r"
     ]
    },
    {
     "name": "stdout",
     "output_type": "stream",
     "text": [
      "+----------+--------+------------+---------------+----+---+----------+---------+----------+------+-----------+-----------+-------+------+-------------+-------+-------+--------+-------+---------------------+-------+--------+-----------------+-----------------+----------------+-----------------+----------------+-----------------+-----------------+-----------------+-----------------+-----------------+-----------------+-----------------+-----------------+-----------------+----------------+-----------------+-----------------+-----------------+-----------------+-----------------+----------------+---------------+-----------------+---------------+\n",
      "|fecha_dato|ncodpers|ind_empleado|pais_residencia|sexo|age|fecha_alta|ind_nuevo|antiguedad|indrel|indrel_1mes|tiprel_1mes|indresi|indext|canal_entrada|indfall|tipodom|cod_prov|nomprov|ind_actividad_cliente|  renta|segmento|ind_ahor_fin_ult1|ind_aval_fin_ult1|ind_cco_fin_ult1|ind_cder_fin_ult1|ind_cno_fin_ult1|ind_ctju_fin_ult1|ind_ctma_fin_ult1|ind_ctop_fin_ult1|ind_ctpp_fin_ult1|ind_deco_fin_ult1|ind_deme_fin_ult1|ind_dela_fin_ult1|ind_ecue_fin_ult1|ind_fond_fin_ult1|ind_hip_fin_ult1|ind_plan_fin_ult1|ind_pres_fin_ult1|ind_reca_fin_ult1|ind_tjcr_fin_ult1|ind_valo_fin_ult1|ind_viv_fin_ult1|ind_nomina_ult1|ind_nom_pens_ult1|ind_recibo_ult1|\n",
      "+----------+--------+------------+---------------+----+---+----------+---------+----------+------+-----------+-----------+-------+------+-------------+-------+-------+--------+-------+---------------------+-------+--------+-----------------+-----------------+----------------+-----------------+----------------+-----------------+-----------------+-----------------+-----------------+-----------------+-----------------+-----------------+-----------------+-----------------+----------------+-----------------+-----------------+-----------------+-----------------+-----------------+----------------+---------------+-----------------+---------------+\n",
      "|         0|       0|           0|              0|  70|  0|         0|        0|         0|     0|     122047|     122047|      0|     0|       158392|      0|      1|   65857|  65857|                    0|2766641|  161634|                0|                0|               0|                0|               0|                0|                0|                0|                0|                0|                0|                0|                0|                0|               0|                0|                0|                0|                0|                0|               0|            217|              217|              0|\n",
      "+----------+--------+------------+---------------+----+---+----------+---------+----------+------+-----------+-----------+-------+------+-------------+-------+-------+--------+-------+---------------------+-------+--------+-----------------+-----------------+----------------+-----------------+----------------+-----------------+-----------------+-----------------+-----------------+-----------------+-----------------+-----------------+-----------------+-----------------+----------------+-----------------+-----------------+-----------------+-----------------+-----------------+----------------+---------------+-----------------+---------------+\n",
      "\n"
     ]
    },
    {
     "name": "stderr",
     "output_type": "stream",
     "text": [
      "                                                                                \r"
     ]
    }
   ],
   "source": [
    "df.select([sum(col(c).isNull().cast(\"int\")).alias(c) for c in df.columns]).show()"
   ]
  },
  {
   "cell_type": "markdown",
   "metadata": {},
   "source": [
    "Drop the rows where sex is Null since only 70 of them is null"
   ]
  },
  {
   "cell_type": "code",
   "execution_count": 97,
   "metadata": {},
   "outputs": [],
   "source": [
    "df = df.select(\"*\").where(df.sexo.isNotNull())"
   ]
  },
  {
   "cell_type": "markdown",
   "metadata": {},
   "source": [
    "Let's see if `indrel_1mes` has any relationship with `tiprel_1mes`. It seems like if one of these column is Null then the other is also Null. We should also drop these columns since these null rows only take up less than 1% of the dataset."
   ]
  },
  {
   "cell_type": "code",
   "execution_count": 99,
   "metadata": {},
   "outputs": [
    {
     "name": "stderr",
     "output_type": "stream",
     "text": [
      "                                                                                \r"
     ]
    },
    {
     "data": {
      "text/plain": [
       "0.8961192055071017"
      ]
     },
     "execution_count": 99,
     "metadata": {},
     "output_type": "execute_result"
    }
   ],
   "source": [
    "test_df = df.where(df.indrel_1mes.isNull())\n",
    "test_df = test_df.where(test_df.tiprel_1mes.isNull())\n",
    "test_df.count() / df.count() * 100"
   ]
  },
  {
   "cell_type": "code",
   "execution_count": 100,
   "metadata": {},
   "outputs": [],
   "source": [
    "df = df.where(df.indrel_1mes.isNotNull()).where(df.tiprel_1mes.isNotNull())"
   ]
  },
  {
   "cell_type": "markdown",
   "metadata": {},
   "source": [
    "The same applied for `cod_prov` and `nomprov`"
   ]
  },
  {
   "cell_type": "code",
   "execution_count": 101,
   "metadata": {},
   "outputs": [
    {
     "name": "stderr",
     "output_type": "stream",
     "text": [
      "                                                                                \r"
     ]
    },
    {
     "data": {
      "text/plain": [
       "0.4878548242194938"
      ]
     },
     "execution_count": 101,
     "metadata": {},
     "output_type": "execute_result"
    }
   ],
   "source": [
    "test_df = df.where(df.cod_prov.isNull())\n",
    "test_df = test_df.where(test_df.nomprov.isNull())\n",
    "test_df.count() / df.count() * 100"
   ]
  },
  {
   "cell_type": "code",
   "execution_count": 102,
   "metadata": {},
   "outputs": [],
   "source": [
    "df = df.where(df.cod_prov.isNotNull()).where(df.nomprov.isNotNull())"
   ]
  },
  {
   "cell_type": "code",
   "execution_count": 134,
   "metadata": {},
   "outputs": [],
   "source": [
    "df = df.drop(df.nomprov)"
   ]
  },
  {
   "cell_type": "markdown",
   "metadata": {},
   "source": [
    "Based on visualization, we can see that `canal_entrada` contains 3 main groups and many other small groups. We'll combine small groups and null values to create another label `Other`"
   ]
  },
  {
   "cell_type": "code",
   "execution_count": 110,
   "metadata": {},
   "outputs": [
    {
     "name": "stderr",
     "output_type": "stream",
     "text": [
      "[Stage 225:=======================================>               (13 + 5) / 18]\r"
     ]
    },
    {
     "name": "stdout",
     "output_type": "stream",
     "text": [
      "+-------------+-------+-------------------+\n",
      "|canal_entrada|  count|         percentage|\n",
      "+-------------+-------+-------------------+\n",
      "|          KHE|4050971| 30.159980821360953|\n",
      "|          KAT|3242351| 24.139704771058717|\n",
      "|          KFC|3089476| 23.001531461976636|\n",
      "|          KHQ| 591036|  4.400336221793218|\n",
      "|          KFA| 399299|  2.972830509521941|\n",
      "|          KHK| 241041| 1.7945800987372325|\n",
      "|          KHM| 183829| 1.3686296728389225|\n",
      "|          KHN| 116591| 0.8680344351868466|\n",
      "|          KHD| 116000|  0.863634366989512|\n",
      "|          KAS|  85364| 0.6355455526180406|\n",
      "|          RED|  74953| 0.5580343681807318|\n",
      "|          KAG|  73516| 0.5473357252034566|\n",
      "|          KAY|  66959|0.49851804809698913|\n",
      "|          KAA|  65229|   0.48563798383068|\n",
      "|          KAB|  62064| 0.4620741668348024|\n",
      "|          KAE|  50250| 0.3741174736312326|\n",
      "|          KCC|  48017|0.35749251206668453|\n",
      "|          KBZ|  45555| 0.3391626171397174|\n",
      "|          KHL|  45099|0.33576764066258624|\n",
      "|          KFD|  43691|0.32528490627705836|\n",
      "+-------------+-------+-------------------+\n",
      "only showing top 20 rows\n",
      "\n"
     ]
    },
    {
     "name": "stderr",
     "output_type": "stream",
     "text": [
      "                                                                                \r"
     ]
    }
   ],
   "source": [
    "total_count = df.count()\n",
    "\n",
    "df.groupBy(\"canal_entrada\") \\\n",
    "    .agg(F.count(\"*\").alias(\"count\"), (F.count(\"*\") / total_count * 100).alias(\"percentage\")) \\\n",
    "    .sort(F.desc(\"count\")) \\\n",
    "    .show()"
   ]
  },
  {
   "cell_type": "code",
   "execution_count": 129,
   "metadata": {},
   "outputs": [],
   "source": [
    "df = df.fillna(\"Others\", subset=[\"canal_entrada\"])"
   ]
  },
  {
   "cell_type": "code",
   "execution_count": 130,
   "metadata": {},
   "outputs": [
    {
     "name": "stderr",
     "output_type": "stream",
     "text": [
      "                                                                                \r"
     ]
    }
   ],
   "source": [
    "channels_stats = df.groupBy(\"canal_entrada\") \\\n",
    "    .agg(F.count(\"*\").alias(\"count\"), (F.count(\"*\") / total_count * 100).alias(\"percentage\")) \\\n",
    "    .sort(F.desc(\"count\")) \\\n",
    "    .collect()"
   ]
  },
  {
   "cell_type": "code",
   "execution_count": 131,
   "metadata": {},
   "outputs": [],
   "source": [
    "channels_to_group = [c.canal_entrada for c in channels_stats if c.percentage < 20]\n",
    "channels_to_replace = [\"Others\" for _ in range(len(channels_to_group))]"
   ]
  },
  {
   "cell_type": "code",
   "execution_count": 132,
   "metadata": {},
   "outputs": [],
   "source": [
    "df = df.replace(channels_to_group, channels_to_replace, subset=[\"canal_entrada\"])"
   ]
  },
  {
   "cell_type": "code",
   "execution_count": 133,
   "metadata": {},
   "outputs": [
    {
     "name": "stderr",
     "output_type": "stream",
     "text": [
      "[Stage 261:==========================================>            (14 + 4) / 18]\r"
     ]
    },
    {
     "name": "stdout",
     "output_type": "stream",
     "text": [
      "+-------------+-------+------------------+\n",
      "|canal_entrada|  count|        percentage|\n",
      "+-------------+-------+------------------+\n",
      "|          KHE|4050971|30.159980821360953|\n",
      "|          KAT|3242351|24.139704771058717|\n",
      "|          KFC|3089476|23.001531461976636|\n",
      "|       Others|3048812| 22.69878294560369|\n",
      "+-------------+-------+------------------+\n",
      "\n"
     ]
    },
    {
     "name": "stderr",
     "output_type": "stream",
     "text": [
      "                                                                                \r"
     ]
    }
   ],
   "source": [
    "total_count = df.count()\n",
    "\n",
    "df.groupBy(\"canal_entrada\") \\\n",
    "    .agg(F.count(\"*\").alias(\"count\"), (F.count(\"*\") / total_count * 100).alias(\"percentage\")) \\\n",
    "    .sort(F.desc(\"count\")) \\\n",
    "    .show()"
   ]
  },
  {
   "cell_type": "markdown",
   "metadata": {},
   "source": [
    "Now, let's look at `segmento`"
   ]
  },
  {
   "cell_type": "code",
   "execution_count": 140,
   "metadata": {},
   "outputs": [
    {
     "name": "stderr",
     "output_type": "stream",
     "text": [
      "[Stage 276:=======================================>               (13 + 5) / 18]\r"
     ]
    },
    {
     "name": "stdout",
     "output_type": "stream",
     "text": [
      "+------------------+-------+-------------------+\n",
      "|          segmento|  count|         percentage|\n",
      "+------------------+-------+-------------------+\n",
      "| 02 - PARTICULARES|7902964|  58.83854578862847|\n",
      "|03 - UNIVERSITARIO|4930818| 36.710550708366306|\n",
      "|          01 - TOP| 558401|  4.157364604838884|\n",
      "|              NULL|  39427|0.29353889816634043|\n",
      "+------------------+-------+-------------------+\n",
      "\n"
     ]
    },
    {
     "name": "stderr",
     "output_type": "stream",
     "text": [
      "                                                                                \r"
     ]
    }
   ],
   "source": [
    "df.groupBy(\"segmento\") \\\n",
    "    .agg(F.count(\"*\").alias(\"count\"), (F.count(\"*\") / total_count * 100).alias(\"percentage\")) \\\n",
    "    .sort(F.desc(\"count\")) \\\n",
    "    .show()"
   ]
  },
  {
   "cell_type": "markdown",
   "metadata": {},
   "source": [
    "For this field, we can actually imputate it with the mode value, which is 02 - PARTICUALRES"
   ]
  },
  {
   "cell_type": "code",
   "execution_count": 141,
   "metadata": {},
   "outputs": [],
   "source": [
    "df = df.fillna(\"02 - PARTICULARES\", subset=[\"segmento\"])"
   ]
  },
  {
   "cell_type": "markdown",
   "metadata": {},
   "source": [
    "For `renta`, we can imputate it with median value"
   ]
  },
  {
   "cell_type": "code",
   "execution_count": 149,
   "metadata": {},
   "outputs": [
    {
     "name": "stderr",
     "output_type": "stream",
     "text": [
      "                                                                                \r"
     ]
    }
   ],
   "source": [
    "median_renta = df.select(F.median(\"renta\").alias(\"median\")).collect()[0]"
   ]
  },
  {
   "cell_type": "code",
   "execution_count": 151,
   "metadata": {},
   "outputs": [],
   "source": [
    "df = df.fillna(median_renta.median, subset=\"renta\")"
   ]
  },
  {
   "cell_type": "markdown",
   "metadata": {},
   "source": [
    "For those null values in target variables, it is better just to remove them."
   ]
  },
  {
   "cell_type": "code",
   "execution_count": 153,
   "metadata": {},
   "outputs": [],
   "source": [
    "df = df.dropna(subset=[\"ind_nomina_ult1\", \"ind_nom_pens_ult1\"])"
   ]
  },
  {
   "cell_type": "markdown",
   "metadata": {},
   "source": [
    "Now there are no null values left"
   ]
  },
  {
   "cell_type": "code",
   "execution_count": 158,
   "metadata": {},
   "outputs": [
    {
     "name": "stderr",
     "output_type": "stream",
     "text": [
      "[Stage 300:=======================================>               (13 + 5) / 18]\r"
     ]
    },
    {
     "name": "stdout",
     "output_type": "stream",
     "text": [
      "+----------+--------+------------+---------------+----+---+----------+---------+----------+------+-----------+-----------+-------+------+-------------+-------+-------+--------+---------------------+-----+--------+-----------------+-----------------+----------------+-----------------+----------------+-----------------+-----------------+-----------------+-----------------+-----------------+-----------------+-----------------+-----------------+-----------------+----------------+-----------------+-----------------+-----------------+-----------------+-----------------+----------------+---------------+-----------------+---------------+\n",
      "|fecha_dato|ncodpers|ind_empleado|pais_residencia|sexo|age|fecha_alta|ind_nuevo|antiguedad|indrel|indrel_1mes|tiprel_1mes|indresi|indext|canal_entrada|indfall|tipodom|cod_prov|ind_actividad_cliente|renta|segmento|ind_ahor_fin_ult1|ind_aval_fin_ult1|ind_cco_fin_ult1|ind_cder_fin_ult1|ind_cno_fin_ult1|ind_ctju_fin_ult1|ind_ctma_fin_ult1|ind_ctop_fin_ult1|ind_ctpp_fin_ult1|ind_deco_fin_ult1|ind_deme_fin_ult1|ind_dela_fin_ult1|ind_ecue_fin_ult1|ind_fond_fin_ult1|ind_hip_fin_ult1|ind_plan_fin_ult1|ind_pres_fin_ult1|ind_reca_fin_ult1|ind_tjcr_fin_ult1|ind_valo_fin_ult1|ind_viv_fin_ult1|ind_nomina_ult1|ind_nom_pens_ult1|ind_recibo_ult1|\n",
      "+----------+--------+------------+---------------+----+---+----------+---------+----------+------+-----------+-----------+-------+------+-------------+-------+-------+--------+---------------------+-----+--------+-----------------+-----------------+----------------+-----------------+----------------+-----------------+-----------------+-----------------+-----------------+-----------------+-----------------+-----------------+-----------------+-----------------+----------------+-----------------+-----------------+-----------------+-----------------+-----------------+----------------+---------------+-----------------+---------------+\n",
      "|         0|       0|           0|              0|   0|  0|         0|        0|         0|     0|          0|          0|      0|     0|            0|      0|      0|       0|                    0|    0|       0|                0|                0|               0|                0|               0|                0|                0|                0|                0|                0|                0|                0|                0|                0|               0|                0|                0|                0|                0|                0|               0|              0|                0|              0|\n",
      "+----------+--------+------------+---------------+----+---+----------+---------+----------+------+-----------+-----------+-------+------+-------------+-------+-------+--------+---------------------+-----+--------+-----------------+-----------------+----------------+-----------------+----------------+-----------------+-----------------+-----------------+-----------------+-----------------+-----------------+-----------------+-----------------+-----------------+----------------+-----------------+-----------------+-----------------+-----------------+-----------------+----------------+---------------+-----------------+---------------+\n",
      "\n"
     ]
    },
    {
     "name": "stderr",
     "output_type": "stream",
     "text": [
      "                                                                                \r"
     ]
    }
   ],
   "source": [
    "df.select([sum(col(c).isNull().cast(\"int\")).alias(c) for c in df.columns]).show()"
   ]
  },
  {
   "cell_type": "markdown",
   "metadata": {},
   "source": [
    "Let's check the schema again."
   ]
  },
  {
   "cell_type": "code",
   "execution_count": 155,
   "metadata": {},
   "outputs": [
    {
     "name": "stdout",
     "output_type": "stream",
     "text": [
      "root\n",
      " |-- fecha_dato: date (nullable = true)\n",
      " |-- ncodpers: integer (nullable = true)\n",
      " |-- ind_empleado: string (nullable = true)\n",
      " |-- pais_residencia: string (nullable = true)\n",
      " |-- sexo: string (nullable = true)\n",
      " |-- age: integer (nullable = true)\n",
      " |-- fecha_alta: date (nullable = true)\n",
      " |-- ind_nuevo: integer (nullable = true)\n",
      " |-- antiguedad: integer (nullable = true)\n",
      " |-- indrel: integer (nullable = true)\n",
      " |-- indrel_1mes: integer (nullable = true)\n",
      " |-- tiprel_1mes: string (nullable = true)\n",
      " |-- indresi: integer (nullable = true)\n",
      " |-- indext: integer (nullable = true)\n",
      " |-- canal_entrada: string (nullable = false)\n",
      " |-- indfall: integer (nullable = true)\n",
      " |-- tipodom: string (nullable = true)\n",
      " |-- cod_prov: string (nullable = true)\n",
      " |-- ind_actividad_cliente: integer (nullable = true)\n",
      " |-- renta: double (nullable = false)\n",
      " |-- segmento: string (nullable = false)\n",
      " |-- ind_ahor_fin_ult1: integer (nullable = true)\n",
      " |-- ind_aval_fin_ult1: integer (nullable = true)\n",
      " |-- ind_cco_fin_ult1: integer (nullable = true)\n",
      " |-- ind_cder_fin_ult1: integer (nullable = true)\n",
      " |-- ind_cno_fin_ult1: integer (nullable = true)\n",
      " |-- ind_ctju_fin_ult1: integer (nullable = true)\n",
      " |-- ind_ctma_fin_ult1: integer (nullable = true)\n",
      " |-- ind_ctop_fin_ult1: integer (nullable = true)\n",
      " |-- ind_ctpp_fin_ult1: integer (nullable = true)\n",
      " |-- ind_deco_fin_ult1: integer (nullable = true)\n",
      " |-- ind_deme_fin_ult1: integer (nullable = true)\n",
      " |-- ind_dela_fin_ult1: integer (nullable = true)\n",
      " |-- ind_ecue_fin_ult1: integer (nullable = true)\n",
      " |-- ind_fond_fin_ult1: integer (nullable = true)\n",
      " |-- ind_hip_fin_ult1: integer (nullable = true)\n",
      " |-- ind_plan_fin_ult1: integer (nullable = true)\n",
      " |-- ind_pres_fin_ult1: integer (nullable = true)\n",
      " |-- ind_reca_fin_ult1: integer (nullable = true)\n",
      " |-- ind_tjcr_fin_ult1: integer (nullable = true)\n",
      " |-- ind_valo_fin_ult1: integer (nullable = true)\n",
      " |-- ind_viv_fin_ult1: integer (nullable = true)\n",
      " |-- ind_nomina_ult1: integer (nullable = true)\n",
      " |-- ind_nom_pens_ult1: integer (nullable = true)\n",
      " |-- ind_recibo_ult1: integer (nullable = true)\n",
      "\n"
     ]
    }
   ],
   "source": [
    "df.printSchema()"
   ]
  },
  {
   "cell_type": "markdown",
   "metadata": {},
   "source": [
    "The `cod_prov` should be integer."
   ]
  },
  {
   "cell_type": "code",
   "execution_count": null,
   "metadata": {},
   "outputs": [
    {
     "name": "stderr",
     "output_type": "stream",
     "text": [
      "[Stage 297:=======================================>               (13 + 5) / 18]\r"
     ]
    },
    {
     "name": "stdout",
     "output_type": "stream",
     "text": [
      "+--------+\n",
      "|cod_prov|\n",
      "+--------+\n",
      "|      51|\n",
      "|      15|\n",
      "|      11|\n",
      "|      29|\n",
      "|      42|\n",
      "|       6|\n",
      "|      30|\n",
      "|      34|\n",
      "|       3|\n",
      "|       4|\n",
      "|      22|\n",
      "|      28|\n",
      "|       7|\n",
      "|      16|\n",
      "|      35|\n",
      "|      52|\n",
      "|      47|\n",
      "|       9|\n",
      "|      43|\n",
      "|      31|\n",
      "+--------+\n",
      "only showing top 20 rows\n",
      "\n"
     ]
    },
    {
     "name": "stderr",
     "output_type": "stream",
     "text": [
      "                                                                                \r"
     ]
    }
   ],
   "source": [
    "df.select(\"cod_prov\").distinct().show()"
   ]
  },
  {
   "cell_type": "code",
   "execution_count": 157,
   "metadata": {},
   "outputs": [],
   "source": [
    "df = df.withColumn(\"cod_prov\", df.cod_prov.cast(\"int\"))"
   ]
  },
  {
   "cell_type": "markdown",
   "metadata": {},
   "source": [
    "Column `tipodom` contains only one value so we can drop this column"
   ]
  },
  {
   "cell_type": "code",
   "execution_count": 159,
   "metadata": {},
   "outputs": [
    {
     "name": "stderr",
     "output_type": "stream",
     "text": [
      "[Stage 303:=======================================>               (13 + 5) / 18]\r"
     ]
    },
    {
     "name": "stdout",
     "output_type": "stream",
     "text": [
      "+-------+\n",
      "|tipodom|\n",
      "+-------+\n",
      "|      1|\n",
      "+-------+\n",
      "\n"
     ]
    },
    {
     "name": "stderr",
     "output_type": "stream",
     "text": [
      "                                                                                \r"
     ]
    }
   ],
   "source": [
    "df.select(\"tipodom\").distinct().show()"
   ]
  },
  {
   "cell_type": "code",
   "execution_count": 160,
   "metadata": {},
   "outputs": [],
   "source": [
    "df = df.drop(\"tipodom\")"
   ]
  },
  {
   "cell_type": "code",
   "execution_count": 161,
   "metadata": {},
   "outputs": [
    {
     "name": "stdout",
     "output_type": "stream",
     "text": [
      "root\n",
      " |-- fecha_dato: date (nullable = true)\n",
      " |-- ncodpers: integer (nullable = true)\n",
      " |-- ind_empleado: string (nullable = true)\n",
      " |-- pais_residencia: string (nullable = true)\n",
      " |-- sexo: string (nullable = true)\n",
      " |-- age: integer (nullable = true)\n",
      " |-- fecha_alta: date (nullable = true)\n",
      " |-- ind_nuevo: integer (nullable = true)\n",
      " |-- antiguedad: integer (nullable = true)\n",
      " |-- indrel: integer (nullable = true)\n",
      " |-- indrel_1mes: integer (nullable = true)\n",
      " |-- tiprel_1mes: string (nullable = true)\n",
      " |-- indresi: integer (nullable = true)\n",
      " |-- indext: integer (nullable = true)\n",
      " |-- canal_entrada: string (nullable = false)\n",
      " |-- indfall: integer (nullable = true)\n",
      " |-- cod_prov: integer (nullable = true)\n",
      " |-- ind_actividad_cliente: integer (nullable = true)\n",
      " |-- renta: double (nullable = false)\n",
      " |-- segmento: string (nullable = false)\n",
      " |-- ind_ahor_fin_ult1: integer (nullable = true)\n",
      " |-- ind_aval_fin_ult1: integer (nullable = true)\n",
      " |-- ind_cco_fin_ult1: integer (nullable = true)\n",
      " |-- ind_cder_fin_ult1: integer (nullable = true)\n",
      " |-- ind_cno_fin_ult1: integer (nullable = true)\n",
      " |-- ind_ctju_fin_ult1: integer (nullable = true)\n",
      " |-- ind_ctma_fin_ult1: integer (nullable = true)\n",
      " |-- ind_ctop_fin_ult1: integer (nullable = true)\n",
      " |-- ind_ctpp_fin_ult1: integer (nullable = true)\n",
      " |-- ind_deco_fin_ult1: integer (nullable = true)\n",
      " |-- ind_deme_fin_ult1: integer (nullable = true)\n",
      " |-- ind_dela_fin_ult1: integer (nullable = true)\n",
      " |-- ind_ecue_fin_ult1: integer (nullable = true)\n",
      " |-- ind_fond_fin_ult1: integer (nullable = true)\n",
      " |-- ind_hip_fin_ult1: integer (nullable = true)\n",
      " |-- ind_plan_fin_ult1: integer (nullable = true)\n",
      " |-- ind_pres_fin_ult1: integer (nullable = true)\n",
      " |-- ind_reca_fin_ult1: integer (nullable = true)\n",
      " |-- ind_tjcr_fin_ult1: integer (nullable = true)\n",
      " |-- ind_valo_fin_ult1: integer (nullable = true)\n",
      " |-- ind_viv_fin_ult1: integer (nullable = true)\n",
      " |-- ind_nomina_ult1: integer (nullable = true)\n",
      " |-- ind_nom_pens_ult1: integer (nullable = true)\n",
      " |-- ind_recibo_ult1: integer (nullable = true)\n",
      "\n"
     ]
    }
   ],
   "source": [
    "df.printSchema()"
   ]
  },
  {
   "cell_type": "markdown",
   "metadata": {},
   "source": [
    "It also seems that these two columns has relationship, and one can be dropped."
   ]
  },
  {
   "cell_type": "code",
   "execution_count": 166,
   "metadata": {},
   "outputs": [
    {
     "name": "stderr",
     "output_type": "stream",
     "text": [
      "[Stage 311:=======================================>               (13 + 5) / 18]\r"
     ]
    },
    {
     "name": "stdout",
     "output_type": "stream",
     "text": [
      "+----------+----------+\n",
      "|fecha_alta|antiguedad|\n",
      "+----------+----------+\n",
      "|2012-08-21|        34|\n",
      "|2012-05-22|        13|\n",
      "|2012-07-31|        31|\n",
      "|2013-04-30|        27|\n",
      "|2013-10-23|        21|\n",
      "|2012-10-26|        29|\n",
      "|2011-08-10|        44|\n",
      "|2011-08-05|        39|\n",
      "|2011-09-12|        33|\n",
      "|2010-10-18|        57|\n",
      "|2010-12-21|        27|\n",
      "|2010-07-07|        60|\n",
      "|2010-06-28|        27|\n",
      "|2014-06-24|        13|\n",
      "|2011-10-21|        44|\n",
      "|2014-09-11|        13|\n",
      "|2014-04-15|        12|\n",
      "|2014-06-05|        16|\n",
      "|2014-12-22|         6|\n",
      "|2014-11-25|         7|\n",
      "+----------+----------+\n",
      "only showing top 20 rows\n",
      "\n"
     ]
    },
    {
     "name": "stderr",
     "output_type": "stream",
     "text": [
      "                                                                                \r"
     ]
    }
   ],
   "source": [
    "df.select(\"fecha_alta\", \"antiguedad\").distinct().show()"
   ]
  },
  {
   "cell_type": "code",
   "execution_count": 167,
   "metadata": {},
   "outputs": [],
   "source": [
    "df = df.drop(\"fecha_alta\")"
   ]
  },
  {
   "cell_type": "code",
   "execution_count": 168,
   "metadata": {},
   "outputs": [
    {
     "name": "stderr",
     "output_type": "stream",
     "text": [
      "                                                                                \r"
     ]
    }
   ],
   "source": [
    "df.coalesce(1).write.option(\"header\", \"true\").csv(\"file:///home/m1nhd3n/Works/DataEngineer/product_recommendations/data/preprocess/handled_missing_new\")"
   ]
  }
 ],
 "metadata": {
  "kernelspec": {
   "display_name": ".venv",
   "language": "python",
   "name": "python3"
  },
  "language_info": {
   "codemirror_mode": {
    "name": "ipython",
    "version": 3
   },
   "file_extension": ".py",
   "mimetype": "text/x-python",
   "name": "python",
   "nbconvert_exporter": "python",
   "pygments_lexer": "ipython3",
   "version": "3.11.2"
  }
 },
 "nbformat": 4,
 "nbformat_minor": 2
}
